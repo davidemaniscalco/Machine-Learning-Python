{
 "cells": [
  {
   "cell_type": "markdown",
   "metadata": {},
   "source": [
    "# Regularized Classification on Student Alcohol Dataset\n",
    "\n",
    "We are going to use a dataset from Kaggle (https://www.kaggle.com/uciml/student-alcohol-consumption)\n",
    " \n",
    "### Dataset description\n",
    "\n",
    ">The data were obtained in a survey of students from the portuguese language courses in a secondary school. It contains a lot of interesting social, gender and study information about students.\n",
    "\n",
    "> Have a look at the information about the dataset at the webpage: https://www.kaggle.com/uciml/student-alcohol-consumption\n",
    "\n",
    ">In this context, we ask you to estimate which students are the most prone to alcohol consumption given some social and educational information. "
   ]
  },
  {
   "cell_type": "markdown",
   "metadata": {},
   "source": [
    "# TO DO: put your Surname, Name and ID number (\"numero di matricola\")\n",
    "\n",
    "\n",
    "Student Name: Davide Maniscalco\n",
    "\n",
    "ID Number: 1212063\n"
   ]
  },
  {
   "cell_type": "code",
   "execution_count": 1,
   "metadata": {},
   "outputs": [],
   "source": [
    "import numpy as np\n",
    "\n",
    "# The seed will be used as seed for splitting the data into training and test. \n",
    "# You can place your ID or also try different seeds to see the impact of the random subdvision of the train and test sets\n",
    "# and of the random components in the algorithm on the results\n",
    "IDnumber = 1212063\n",
    "np.random.seed(IDnumber)"
   ]
  },
  {
   "cell_type": "code",
   "execution_count": 2,
   "metadata": {},
   "outputs": [],
   "source": [
    "# let's load library for plotting\n",
    "%matplotlib inline  \n",
    "import matplotlib.pyplot as plt"
   ]
  },
  {
   "cell_type": "markdown",
   "metadata": {},
   "source": [
    "## Data Preprocessing\n",
    "\n",
    "Load the data from a .csv file. In this notebook we use the pandas (Python Data Analysis Library) package, since it provides useful functions to clean the data. In particular, it allows us to remove samples with missing data, as we do below. We also plot some descriptions of columns, check the pandas documentation for 'describe()' if you want to know more."
   ]
  },
  {
   "cell_type": "code",
   "execution_count": 3,
   "metadata": {},
   "outputs": [
    {
     "data": {
      "text/html": [
       "<div>\n",
       "<style scoped>\n",
       "    .dataframe tbody tr th:only-of-type {\n",
       "        vertical-align: middle;\n",
       "    }\n",
       "\n",
       "    .dataframe tbody tr th {\n",
       "        vertical-align: top;\n",
       "    }\n",
       "\n",
       "    .dataframe thead th {\n",
       "        text-align: right;\n",
       "    }\n",
       "</style>\n",
       "<table border=\"1\" class=\"dataframe\">\n",
       "  <thead>\n",
       "    <tr style=\"text-align: right;\">\n",
       "      <th></th>\n",
       "      <th>drink_alcohol</th>\n",
       "      <th>age</th>\n",
       "      <th>Medu</th>\n",
       "      <th>Fedu</th>\n",
       "      <th>traveltime</th>\n",
       "      <th>studytime</th>\n",
       "      <th>famrel</th>\n",
       "      <th>freetime</th>\n",
       "      <th>goout</th>\n",
       "      <th>health</th>\n",
       "      <th>absences</th>\n",
       "      <th>Marks</th>\n",
       "    </tr>\n",
       "  </thead>\n",
       "  <tbody>\n",
       "    <tr>\n",
       "      <th>count</th>\n",
       "      <td>649.000000</td>\n",
       "      <td>649.000000</td>\n",
       "      <td>649.000000</td>\n",
       "      <td>649.000000</td>\n",
       "      <td>649.000000</td>\n",
       "      <td>649.000000</td>\n",
       "      <td>649.000000</td>\n",
       "      <td>649.000000</td>\n",
       "      <td>649.000000</td>\n",
       "      <td>649.000000</td>\n",
       "      <td>649.000000</td>\n",
       "      <td>649.000000</td>\n",
       "    </tr>\n",
       "    <tr>\n",
       "      <th>mean</th>\n",
       "      <td>0.454545</td>\n",
       "      <td>16.744222</td>\n",
       "      <td>2.514638</td>\n",
       "      <td>2.306626</td>\n",
       "      <td>1.568567</td>\n",
       "      <td>1.930663</td>\n",
       "      <td>3.930663</td>\n",
       "      <td>3.180277</td>\n",
       "      <td>3.184900</td>\n",
       "      <td>3.536210</td>\n",
       "      <td>3.659476</td>\n",
       "      <td>11.906009</td>\n",
       "    </tr>\n",
       "    <tr>\n",
       "      <th>std</th>\n",
       "      <td>0.498314</td>\n",
       "      <td>1.218138</td>\n",
       "      <td>1.134552</td>\n",
       "      <td>1.099931</td>\n",
       "      <td>0.748660</td>\n",
       "      <td>0.829510</td>\n",
       "      <td>0.955717</td>\n",
       "      <td>1.051093</td>\n",
       "      <td>1.175766</td>\n",
       "      <td>1.446259</td>\n",
       "      <td>4.640759</td>\n",
       "      <td>3.230656</td>\n",
       "    </tr>\n",
       "    <tr>\n",
       "      <th>min</th>\n",
       "      <td>0.000000</td>\n",
       "      <td>15.000000</td>\n",
       "      <td>0.000000</td>\n",
       "      <td>0.000000</td>\n",
       "      <td>1.000000</td>\n",
       "      <td>1.000000</td>\n",
       "      <td>1.000000</td>\n",
       "      <td>1.000000</td>\n",
       "      <td>1.000000</td>\n",
       "      <td>1.000000</td>\n",
       "      <td>0.000000</td>\n",
       "      <td>0.000000</td>\n",
       "    </tr>\n",
       "    <tr>\n",
       "      <th>25%</th>\n",
       "      <td>0.000000</td>\n",
       "      <td>16.000000</td>\n",
       "      <td>2.000000</td>\n",
       "      <td>1.000000</td>\n",
       "      <td>1.000000</td>\n",
       "      <td>1.000000</td>\n",
       "      <td>4.000000</td>\n",
       "      <td>3.000000</td>\n",
       "      <td>2.000000</td>\n",
       "      <td>2.000000</td>\n",
       "      <td>0.000000</td>\n",
       "      <td>10.000000</td>\n",
       "    </tr>\n",
       "    <tr>\n",
       "      <th>50%</th>\n",
       "      <td>0.000000</td>\n",
       "      <td>17.000000</td>\n",
       "      <td>2.000000</td>\n",
       "      <td>2.000000</td>\n",
       "      <td>1.000000</td>\n",
       "      <td>2.000000</td>\n",
       "      <td>4.000000</td>\n",
       "      <td>3.000000</td>\n",
       "      <td>3.000000</td>\n",
       "      <td>4.000000</td>\n",
       "      <td>2.000000</td>\n",
       "      <td>12.000000</td>\n",
       "    </tr>\n",
       "    <tr>\n",
       "      <th>75%</th>\n",
       "      <td>1.000000</td>\n",
       "      <td>18.000000</td>\n",
       "      <td>4.000000</td>\n",
       "      <td>3.000000</td>\n",
       "      <td>2.000000</td>\n",
       "      <td>2.000000</td>\n",
       "      <td>5.000000</td>\n",
       "      <td>4.000000</td>\n",
       "      <td>4.000000</td>\n",
       "      <td>5.000000</td>\n",
       "      <td>6.000000</td>\n",
       "      <td>14.000000</td>\n",
       "    </tr>\n",
       "    <tr>\n",
       "      <th>max</th>\n",
       "      <td>1.000000</td>\n",
       "      <td>22.000000</td>\n",
       "      <td>4.000000</td>\n",
       "      <td>4.000000</td>\n",
       "      <td>4.000000</td>\n",
       "      <td>4.000000</td>\n",
       "      <td>5.000000</td>\n",
       "      <td>5.000000</td>\n",
       "      <td>5.000000</td>\n",
       "      <td>5.000000</td>\n",
       "      <td>32.000000</td>\n",
       "      <td>19.000000</td>\n",
       "    </tr>\n",
       "  </tbody>\n",
       "</table>\n",
       "</div>"
      ],
      "text/plain": [
       "       drink_alcohol         age        Medu        Fedu  traveltime  \\\n",
       "count     649.000000  649.000000  649.000000  649.000000  649.000000   \n",
       "mean        0.454545   16.744222    2.514638    2.306626    1.568567   \n",
       "std         0.498314    1.218138    1.134552    1.099931    0.748660   \n",
       "min         0.000000   15.000000    0.000000    0.000000    1.000000   \n",
       "25%         0.000000   16.000000    2.000000    1.000000    1.000000   \n",
       "50%         0.000000   17.000000    2.000000    2.000000    1.000000   \n",
       "75%         1.000000   18.000000    4.000000    3.000000    2.000000   \n",
       "max         1.000000   22.000000    4.000000    4.000000    4.000000   \n",
       "\n",
       "        studytime      famrel    freetime       goout      health    absences  \\\n",
       "count  649.000000  649.000000  649.000000  649.000000  649.000000  649.000000   \n",
       "mean     1.930663    3.930663    3.180277    3.184900    3.536210    3.659476   \n",
       "std      0.829510    0.955717    1.051093    1.175766    1.446259    4.640759   \n",
       "min      1.000000    1.000000    1.000000    1.000000    1.000000    0.000000   \n",
       "25%      1.000000    4.000000    3.000000    2.000000    2.000000    0.000000   \n",
       "50%      2.000000    4.000000    3.000000    3.000000    4.000000    2.000000   \n",
       "75%      2.000000    5.000000    4.000000    4.000000    5.000000    6.000000   \n",
       "max      4.000000    5.000000    5.000000    5.000000    5.000000   32.000000   \n",
       "\n",
       "            Marks  \n",
       "count  649.000000  \n",
       "mean    11.906009  \n",
       "std      3.230656  \n",
       "min      0.000000  \n",
       "25%     10.000000  \n",
       "50%     12.000000  \n",
       "75%     14.000000  \n",
       "max     19.000000  "
      ]
     },
     "execution_count": 3,
     "metadata": {},
     "output_type": "execute_result"
    }
   ],
   "source": [
    "# let's load pands and numpy\n",
    "import pandas as pd\n",
    "import numpy as np\n",
    "\n",
    "# this time we use pandas to load and clean the dataset\n",
    "\n",
    "# read the data from the csv file\n",
    "df = pd.read_csv(\"data/student-data.csv\", sep=',')\n",
    "\n",
    "# let's see some statistics about the data \n",
    "df.describe()"
   ]
  },
  {
   "cell_type": "markdown",
   "metadata": {
    "collapsed": true
   },
   "source": [
    "Now we create data matrices: many of the features are categorical, so we need to encode them with ***indicator matrices*** (i.e., using the so called one-hot encoding). That is, if a feature can take $\\ell$ different values $v_1,\\dots,v_{\\ell}$, we create $\\ell$ indicator (0-1) features $I_1,\\dots,I_{\\ell}$, such that $I_{j} = 1$ if and only if the value of the feature is $v_j$. This can be done in Python by first encode a feature with integers with LabelEncoder() and then obtain the indicator variables with OneHotEncoder()."
   ]
  },
  {
   "cell_type": "code",
   "execution_count": 4,
   "metadata": {},
   "outputs": [
    {
     "name": "stdout",
     "output_type": "stream",
     "text": [
      "[[0 'GP' 'F' ... 3 4 11]\n",
      " [0 'GP' 'F' ... 3 2 11]\n",
      " [1 'GP' 'F' ... 3 6 12]\n",
      " ...\n",
      " [0 'MS' 'F' ... 5 6 9]\n",
      " [1 'MS' 'M' ... 2 6 10]\n",
      " [1 'MS' 'M' ... 5 4 11]]\n",
      "['drink_alcohol', 'school', 'sex', 'age', 'address', 'famsize', 'Pstatus', 'Medu', 'Fedu', 'Mjob', 'Fjob', 'guardian', 'traveltime', 'studytime', 'famrel', 'freetime', 'goout', 'health', 'absences', 'Marks']\n"
     ]
    },
    {
     "data": {
      "text/plain": [
       "(649, 19)"
      ]
     },
     "execution_count": 4,
     "metadata": {},
     "output_type": "execute_result"
    }
   ],
   "source": [
    "#df.values contains the data, both the values of instances and the value of the label\n",
    "Data = df.values\n",
    "print(Data)\n",
    "# the matrix including the categorical data is given by columns from the second one \n",
    "X_categorical = Data[:,1:]\n",
    "# the target value (class) is in the first column\n",
    "Y = Data[:,0]\n",
    "\n",
    "print(list(df))\n",
    "np.shape(X_categorical)"
   ]
  },
  {
   "cell_type": "code",
   "execution_count": 5,
   "metadata": {},
   "outputs": [
    {
     "name": "stdout",
     "output_type": "stream",
     "text": [
      "Number of samples: 649\n",
      "Categorical feature: school    Number of categories: (2,)\n",
      "Categorical feature: sex    Number of categories: (2,)\n",
      "Valued feature: age\n",
      "Categorical feature: address    Number of categories: (2,)\n",
      "Categorical feature: famsize    Number of categories: (2,)\n",
      "Categorical feature: Pstatus    Number of categories: (2,)\n",
      "Categorical feature: Medu    Number of categories: (5,)\n",
      "Categorical feature: Fedu    Number of categories: (5,)\n",
      "Categorical feature: Mjob    Number of categories: (5,)\n",
      "Categorical feature: Fjob    Number of categories: (5,)\n",
      "Categorical feature: guardian    Number of categories: (3,)\n",
      "Categorical feature: traveltime    Number of categories: (4,)\n",
      "Categorical feature: studytime    Number of categories: (4,)\n",
      "Categorical feature: famrel    Number of categories: (5,)\n",
      "Categorical feature: freetime    Number of categories: (5,)\n",
      "Categorical feature: goout    Number of categories: (5,)\n",
      "Categorical feature: health    Number of categories: (5,)\n",
      "Valued feature: absences\n",
      "Valued feature: Marks\n",
      "Shape of X: (649, 64)\n",
      "Sample element from X: [0.0 1.0 0.0 1.0 15 0.0 1.0 1.0 0.0 0.0 1.0 0.0 0.0 0.0 0.0 1.0 0.0 0.0\n",
      " 0.0 1.0 0.0 0.0 0.0 0.0 0.0 1.0 0.0 0.0 1.0 0.0 0.0 0.0 1.0 0.0 1.0 0.0\n",
      " 0.0 0.0 0.0 1.0 0.0 0.0 0.0 0.0 0.0 1.0 0.0 0.0 0.0 0.0 1.0 0.0 1.0 0.0\n",
      " 0.0 0.0 0.0 1.0 0.0 0.0 0.0 0.0 0 14]\n"
     ]
    }
   ],
   "source": [
    "# get the number d of features of each sample\n",
    "d = X_categorical.shape[1]                       #features, is 19\n",
    "\n",
    "# get the number m of samples\n",
    "m = X_categorical.shape[0]                       #length of the sample, is 649\n",
    "\n",
    "#let's see what the number of samples is\n",
    "print(\"Number of samples: {}\".format(m))\n",
    "\n",
    "#now encode categorical variables using integers and one-hot-encoder\n",
    "from sklearn.preprocessing import LabelEncoder, OneHotEncoder\n",
    "label_encoder = LabelEncoder()\n",
    "onehot_encoder = OneHotEncoder(categories='auto')\n",
    "\n",
    "# encode the first column of the data matrix into indicator variables\n",
    "\n",
    "X_tmp = label_encoder.fit_transform(X_categorical[:,1])\n",
    "X_tmp = X_tmp.reshape(X_tmp.shape[0],1)\n",
    "X = onehot_encoder.fit_transform(X_tmp[:,0].reshape(-1,1)).toarray()\n",
    "print(\"Categorical feature:\", df.columns[1], \"   Number of categories:\", X[1,:].shape)\n",
    "\n",
    "# repeat for the other categorical input variables\n",
    "index_categorical = [1,3,4,5,6,7,8,9,10,11,12,13,14,15,16]\n",
    "\n",
    "for i in range(1,19):\n",
    "    if i in index_categorical:\n",
    "        X_tmp = label_encoder.fit_transform(X_categorical[:,i])\n",
    "        X_tmp = X_tmp.reshape(X_tmp.shape[0],1)\n",
    "        X_tmp = onehot_encoder.fit_transform(X_tmp[:,0].reshape(-1,1)).toarray()\n",
    "        X = np.hstack((X,X_tmp))\n",
    "        print(\"Categorical feature:\", df.columns[i+1], \"   Number of categories:\", X_tmp[1,:].shape)\n",
    "    else:\n",
    "        X_tmp = X_categorical[:,i]\n",
    "        X_tmp = X_tmp.reshape(X_tmp.shape[0],1)\n",
    "        X = np.hstack((X,X_tmp))\n",
    "        print(\"Valued feature:\", df.columns[i+1])\n",
    "        \n",
    "print(\"Shape of X:\", X.shape)\n",
    "print(\"Sample element from X:\", X[20,:])"
   ]
  },
  {
   "cell_type": "markdown",
   "metadata": {},
   "source": [
    "## Data Preprocessing\n",
    "\n",
    "The class labels are already 0-1, so we can use them directly."
   ]
  },
  {
   "cell_type": "code",
   "execution_count": 6,
   "metadata": {},
   "outputs": [
    {
     "name": "stdout",
     "output_type": "stream",
     "text": [
      "Number of classes: 2\n"
     ]
    }
   ],
   "source": [
    "# properly encode the target labels\n",
    "Y = label_encoder.fit_transform(Y)\n",
    "K = max(Y) + 1 # number of classes\n",
    "\n",
    "print(\"Number of classes: \"+str(K))    #two classes: drink or not"
   ]
  },
  {
   "cell_type": "markdown",
   "metadata": {},
   "source": [
    "Given $m$ total data points, keep $m\\_training = 100$ data points as data for ***training and validation*** and $m\\_test = m - m\\_training$ as test data. Splitting is random, using as seed your ID number. Make sure that the training set contains at least 10 instances from each class.If it does not, modify the code so to apply a random\n",
    "permutation (or the same permutation multiple times) to the samples until this happens."
   ]
  },
  {
   "cell_type": "code",
   "execution_count": 7,
   "metadata": {},
   "outputs": [
    {
     "name": "stdout",
     "output_type": "stream",
     "text": [
      "[1 1 1 0 0 0 0 1 0 1 1 0 0 1 1 0 0 1 0 1 1 1 1 1 1 1 0 0 0 0 0 0 0 0 0 0 1\n",
      " 0 1 1 0 0 1 1 1 0 0 0 0 1 0 1 0 0 1 0 0 1 0 1 0 1 0 1 0 0 0 0 1 0 0 0 0 1\n",
      " 0 0 1 1 0 0 0 1 0 0 1 0 1 1 0 1 1 1 0 1 0 0 0 1 0 0]\n",
      "0.45454545454545453\n"
     ]
    }
   ],
   "source": [
    "# Split data into training and validation data\n",
    "\n",
    "# load a package which is useful for the training-test splitting\n",
    "# from sklearn.cross_validation import train_test_split\n",
    "from sklearn.model_selection import train_test_split\n",
    "\n",
    "# number of samples\n",
    "m = np.shape(X)[0]\n",
    "\n",
    "#Divide in training and test: make sure that your training set\n",
    "#contains at least 10 elements from class 1 and at least 10 elements\n",
    "#from class -1! If it does not, modify the code so to apply more random\n",
    "#permutations (or the same permutation multiple times) until this happens.\n",
    "\n",
    "permutation = np.random.permutation(m)\n",
    "X = X[permutation]\n",
    "Y = Y[permutation]\n",
    "\n",
    "m_training = 100 #  # use 100 samples for training + validation...\n",
    "m_test = m-m_training # and the rest for testing\n",
    "\n",
    "# test_size is the proportion of samples in the test set\n",
    "X_training, X_test, Y_training, Y_test = train_test_split(X, Y, test_size =float(m_test)/float(m), random_state = IDnumber)\n",
    "\n",
    "print(Y_training)\n",
    "\n",
    "m_training = X_training.shape[0]\n",
    "m_test = X_test.shape[0]\n",
    "\n",
    "#let's see what the fraction of ones in the entire dataset is\n",
    "print(float(sum(Y_training)+sum(Y_test))/float(m_training+m_test))"
   ]
  },
  {
   "cell_type": "markdown",
   "metadata": {},
   "source": [
    "Standardize the data to have zero-mean and unit variance (columnwise):"
   ]
  },
  {
   "cell_type": "code",
   "execution_count": 8,
   "metadata": {},
   "outputs": [],
   "source": [
    "# Standardize the Features Matrix\n",
    "from sklearn import preprocessing\n",
    "\n",
    "X = X.astype(np.float64) #standard scaler works with double precision data\n",
    "X_training = X_training.astype(np.float64)\n",
    "X_test = X_test.astype(np.float64)\n",
    "\n",
    "#let's use the standard scaling; we degine the scaling for the entire dataset\n",
    "scaler = preprocessing.StandardScaler().fit(X)\n",
    "\n",
    "#let's apply the scaling to the training set\n",
    "\n",
    "X_training = scaler.transform(X_training)\n",
    "#let's apply the scaling to the test set\n",
    "\n",
    "X_test = scaler.transform(X_test)"
   ]
  },
  {
   "cell_type": "code",
   "execution_count": 9,
   "metadata": {},
   "outputs": [
    {
     "name": "stdout",
     "output_type": "stream",
     "text": [
      "(100, 64)\n",
      "(549, 64)\n"
     ]
    }
   ],
   "source": [
    "#just to see\n",
    "print(X_training.shape)\n",
    "print(X_test.shape)"
   ]
  },
  {
   "cell_type": "markdown",
   "metadata": {},
   "source": [
    "### Perform Logistic Regression\n",
    "\n",
    "We now perform logistic regression using the function provided by Scikit-learn.\n",
    "\n",
    "Note: as provided by Scikit-learn, logistic regression is always implemented using regularization. However, the impact of regularization can be dampened to have almost no regularization by changing the parameter $C$, which is the inverse of $\\lambda$. Therefore to have no regularization, which is $\\lambda = 0$ for the model seen in class, we need $C$ to have a large value. Here we fix $C = 100000000$.\n",
    "\n",
    "[Note that the intercept is estimated in the model.]\n",
    "\n",
    "For all our models we are going to use 10-fold cross validation to estimate the parameters (when needed) and/or estimate the validation error."
   ]
  },
  {
   "cell_type": "code",
   "execution_count": 10,
   "metadata": {},
   "outputs": [
    {
     "name": "stdout",
     "output_type": "stream",
     "text": [
      "Values of parameter C tried in 10-fold Cross-Validation: [100000000]\n",
      "Accuracies obtained for the different values of C with 10-fold Cross-Validation: [0.59989899]\n",
      "Best value of parameter C according to 10-fold Cross-Validation: 100000000\n",
      "<class 'dict'>\n",
      "10-fold Cross-Validation accuracies obtained with the best value of parameter C: [0.88888889]\n"
     ]
    }
   ],
   "source": [
    "from sklearn import linear_model\n",
    "\n",
    "# define a logistic regression model with very high C parameter -> low impact from regularization;\n",
    "# there are many solvers available to obtain the solution to the logistic regression problem, we just pick\n",
    "# one of them; 'cv' is the number of folds in cross-validation; we also specify l2 as regularization penalty,\n",
    "# just to pick one; Cs contains the values of C to be tested and to pick from with validation. Here we\n",
    "# are interested in only 1 value of C, and use cross-validation just to estimate the validation error\n",
    "# in a same way as other models\n",
    "\n",
    "reg = linear_model.LogisticRegressionCV(Cs=[100000000], solver='newton-cg',cv=10, penalty='l2')\n",
    "\n",
    "#fit the model on training data\n",
    "reg.fit(X_training, Y_training)\n",
    "\n",
    "# the attribute 'Cs_' contains ALL the values of C evaluated in cross-validation;\n",
    "# let's print them\n",
    "print(\"Values of parameter C tried in 10-fold Cross-Validation: {}\".format( reg.Cs_ ))\n",
    "\n",
    "# the attribute 'scores_' contains the accuracy obtained in each fold, for each value \n",
    "# of C tried; we now compute the average accuracy across the 10 folds\n",
    "\n",
    "CV_accuracies = np.divide(np.sum(reg.scores_[1],axis=0),10)\n",
    "\n",
    "# let's print the average accuracies obtained for the various values of C\n",
    "\n",
    "print(\"Accuracies obtained for the different values of C with 10-fold Cross-Validation: {}\".format( CV_accuracies ))\n",
    "\n",
    "# the attribute 'C_' contains the best value of C as identified by cross-validation;\n",
    "# let's print it\n",
    "\n",
    "print(\"Best value of parameter C according to 10-fold Cross-Validation: {}\".format( reg.C_[0] ))\n",
    "\n",
    "# let's store the best CV accuracy, and then print it\n",
    "print(type(reg.scores_))\n",
    "reg_best_CV_accuracy = max(reg.scores_[1])\n",
    "print(\"10-fold Cross-Validation accuracies obtained with the best value of parameter C: {}\".format( reg_best_CV_accuracy ))"
   ]
  },
  {
   "cell_type": "code",
   "execution_count": 11,
   "metadata": {},
   "outputs": [
    {
     "data": {
      "text/plain": [
       "array([[0.72727273],\n",
       "       [0.72727273],\n",
       "       [0.4       ],\n",
       "       [0.7       ],\n",
       "       [0.6       ],\n",
       "       [0.6       ],\n",
       "       [0.4       ],\n",
       "       [0.4       ],\n",
       "       [0.88888889],\n",
       "       [0.55555556]])"
      ]
     },
     "execution_count": 11,
     "metadata": {},
     "output_type": "execute_result"
    }
   ],
   "source": [
    "# just to see: it's all the scores of the 10 validation partitions\n",
    "reg.scores_[1]"
   ]
  },
  {
   "cell_type": "markdown",
   "metadata": {},
   "source": [
    "Note that the logistic regression function in Scikit-learn has many optional parameters. Read the documentation if you want to understand what they do!"
   ]
  },
  {
   "cell_type": "markdown",
   "metadata": {},
   "source": [
    "## TODO 1\n",
    "### Learn the best model from Logistic Regression on the entire training set and examine coefficients (by printing and plotting them)\n",
    "\n",
    "Note that you can use simply $linear\\_model.LogisticRegression()$, that does not use cross-validation, without passing the best value of $C$ (and then fit())."
   ]
  },
  {
   "cell_type": "code",
   "execution_count": 12,
   "metadata": {},
   "outputs": [
    {
     "name": "stdout",
     "output_type": "stream",
     "text": [
      "Coefficients obtained using the entire training set: \n",
      "\n",
      " [[-8.93229763e+00  8.93229763e+00 -8.93229763e+00  8.93229763e+00\n",
      "   1.48942231e+01 -7.81649073e+00  7.81649073e+00  1.21685234e+01\n",
      "  -1.21685234e+01  2.25140227e+00 -2.25140227e+00  1.68434793e-01\n",
      "   1.88502882e+00 -1.78627410e+01 -1.06483823e+00  1.73881466e+01\n",
      "  -1.44972736e+01  2.90688963e+01  8.31530543e+00  4.97830305e-03\n",
      "  -3.83675320e+01 -3.86271108e+00  2.32624467e+01 -4.36314283e+00\n",
      "  -1.66023134e+00 -5.44208099e+00 -4.90661073e+00  6.17628371e-01\n",
      "  -6.85107424e+00  1.14378012e+01 -2.79756399e+00  3.66469389e+00\n",
      "   1.46798838e+01 -3.40180464e+01 -1.23475665e+01  2.63882259e+01\n",
      "  -2.26129622e+01 -1.43015489e-01  1.00071011e+01 -1.78365557e+01\n",
      "   2.42335203e+01 -1.96183154e+01 -5.19500736e-01 -3.73181940e+01\n",
      "   2.58876361e+01  9.56473234e+00 -1.42085080e+01  6.66509378e+00\n",
      "  -7.25337641e+00 -1.33415829e+01  2.80810378e+00  2.03840946e+01\n",
      "   8.47047895e-01 -2.56848154e+01 -7.61948831e+00  2.27731003e+01\n",
      "   1.23349090e+01 -7.88491424e+00  1.05890888e+01 -2.03072334e+01\n",
      "  -9.12203711e+00  2.19273396e+01  2.47817385e+01 -2.17010272e+01]]\n",
      "Intercept: [2.34419718]\n"
     ]
    },
    {
     "data": {
      "image/png": "[encoded data removed]",
      "text/plain": [
       "<Figure size 432x288 with 1 Axes>"
      ]
     },
     "metadata": {
      "needs_background": "light"
     },
     "output_type": "display_data"
    }
   ],
   "source": [
    "#Use a large C to disable regularization\n",
    "reg_full = linear_model.LogisticRegression(C=1e8,solver='newton-cg')\n",
    "\n",
    "reg_full.fit(X_training,Y_training)\n",
    "\n",
    "# print the coefficients from the logistic regression model.\n",
    "print(\"Coefficients obtained using the entire training set: \\n\\n {}\".format( reg_full.coef_ ))\n",
    "\n",
    "# note that the intercept is not in coef_, it is in intercept_\n",
    "\n",
    "print(\"Intercept: {}\".format( reg_full.intercept_ ))\n",
    "\n",
    "# Plot the coefficients\n",
    "reg_coef = reg_full.coef_.reshape(reg_full.coef_.shape[1],)\n",
    "plt.figure()\n",
    "ind = np.arange(1,len(reg_coef)+1)  # the x locations for the groups\n",
    "width = 0.45       # the width of the bars\n",
    "plt.bar(ind, reg_coef, width, color='r')\n",
    "plt.xlabel('Coefficient Index')\n",
    "plt.ylabel('Coefficient Value')\n",
    "plt.title('Logistic Regression Coefficients')\n",
    "plt.show()"
   ]
  },
  {
   "cell_type": "markdown",
   "metadata": {},
   "source": [
    "## TO DO 2\n",
    "\n",
    "### Questions: How many coefficients do you get (recall that the one-hot encoding has been used for some of the features)? Why? How many of them are \"close\" to 0? What do negative coefficient values mean? (max 5 lines)\n",
    "\n",
    "### Answer to the questions\n"
   ]
  },
  {
   "cell_type": "markdown",
   "metadata": {},
   "source": [
    "The coefficients are 64, one for each feature after the one-hot encoding. Initially the features were 19, but each feature was splitted in $l$, where $l$ is the number of values that each feature can have.\n",
    "I arbitrarily set the interval $[-0.5,0.5]$ as the one of the values close to zero. The number of values in this interval is the following:"
   ]
  },
  {
   "cell_type": "code",
   "execution_count": 13,
   "metadata": {},
   "outputs": [
    {
     "data": {
      "text/plain": [
       "3"
      ]
     },
     "execution_count": 13,
     "metadata": {},
     "output_type": "execute_result"
    }
   ],
   "source": [
    "sum(abs(reg_full.coef_[0])<0.5)"
   ]
  },
  {
   "cell_type": "markdown",
   "metadata": {},
   "source": [
    "that is a very small fraction of the total. The negative coefficients are the ones whose feature does not lead the output of the coefficient to 1, but to 0."
   ]
  },
  {
   "cell_type": "markdown",
   "metadata": {},
   "source": [
    "## TO DO 3\n",
    "### Predict labels on training and test\n",
    "\n",
    "- Compute the predicted labels on training and test data using reg.predict\n",
    " - Evaluate the accuracy using metrics.accuracy_score from scikit-learn (it returns the percentage of data correctly classified).\n",
    " - Evaluate the score used by logistic regression on training and test data using metrics.accuracy_score()"
   ]
  },
  {
   "cell_type": "code",
   "execution_count": 14,
   "metadata": {},
   "outputs": [
    {
     "name": "stdout",
     "output_type": "stream",
     "text": [
      "Training accuracy:  1.0\n",
      "Test accuracy:  0.6065573770491803\n"
     ]
    }
   ],
   "source": [
    "from sklearn import metrics\n",
    "\n",
    "# prediction on training data\n",
    "Y_training_prediction_LR = reg_full.predict(X_training)\n",
    "\n",
    "# compute accuracy as suggested above using metrics.accuracy_score from scikit-learn for training dataset\n",
    "\n",
    "print('Training accuracy: ',metrics.accuracy_score(Y_training, Y_training_prediction_LR))\n",
    "\n",
    "# prediction on test data\n",
    "Y_test_prediction_LR = reg_full.predict(X_test)\n",
    "\n",
    "# compute accuracy as suggested above using metrics.accuracy_score from scikit-learn for test dataset\n",
    "\n",
    "print('Test accuracy: ',metrics.accuracy_score(Y_test, Y_test_prediction_LR))"
   ]
  },
  {
   "cell_type": "markdown",
   "metadata": {},
   "source": [
    "## TO DO 4\n",
    "### Use L2 regularized logistic regression with cross-validation\n",
    "\n",
    "We perform the L2 regularization for different values of the regularization parameter $C$, and use the Scikit-learn function to perform cross-validation (CV).\n",
    "\n",
    "In L2 regularized logistic regression, the following L2 regularization term is added to the loss:\n",
    "\n",
    "$$\n",
    "    \\lambda \\sum_{i=1}^d w_i^2\n",
    "$$\n",
    "\n",
    "The parameter $C$ used by Scikit learn corresponds to the inverse of $\\lambda$, that is $C = \\frac{1}{\\lambda}$.\n",
    "\n",
    "Note: the CV in Scikit-learn is by default a *stratified* CV, that means that data is split into train-validation while maintaining the proportion of different classes in each fold.\n",
    "\n",
    "In the code below:\n",
    "- use LogisticRegressionCV() to select the best value of C with a 10-fold CV with L2 penalty;\n",
    "- use LogisticRegression() to learn the best model for the best C with L2 penalty on the entire training set\n",
    "\n",
    "Note that LogisticRegressionCV() picks some default values of C to try, but you may need to pass some other values in case for your dataset you need to explore a different interval of values. This applies every time that you use LogisticRegressionCV()."
   ]
  },
  {
   "cell_type": "code",
   "execution_count": 15,
   "metadata": {},
   "outputs": [
    {
     "name": "stdout",
     "output_type": "stream",
     "text": [
      "Values of parameter C tried in 10-fold Cross-Validation: [1.00000000e-04 7.74263683e-04 5.99484250e-03 4.64158883e-02\n",
      " 3.59381366e-01 2.78255940e+00 2.15443469e+01 1.66810054e+02\n",
      " 1.29154967e+03 1.00000000e+04]\n",
      "Accuracies obtained for the different values of C with 10-fold Cross-Validation: [0.58020202 0.58020202 0.66676768 0.6789899  0.61080808 0.59171717\n",
      " 0.59989899 0.59989899 0.59989899 0.59989899]\n",
      "Best C value identified:  [0.04641589]\n"
     ]
    }
   ],
   "source": [
    "#define the model using LogisticRegressionCV passing an appropriate solver, cv value, and choice of penalty\n",
    "regL2 = linear_model.LogisticRegressionCV(solver='newton-cg',cv=10, penalty='l2')\n",
    "\n",
    "#fit the model on training data\n",
    "\n",
    "regL2.fit(X_training, Y_training)\n",
    "\n",
    "# the attribute 'Cs_' contains ALL the values of C evaluated in cross-validation;\n",
    "# let's print them\n",
    "print(\"Values of parameter C tried in 10-fold Cross-Validation: {}\".format( regL2.Cs_ ))\n",
    "\n",
    "# the attribute 'scores_' contains the accuracy obtained in each fold, for each value \n",
    "# of C tried; we now compute the average accuracy across the 10 folds\n",
    "\n",
    "CV_accuracies =  np.divide(np.sum(regL2.scores_[1],axis=0),10)\n",
    "\n",
    "# let's print the average accuracies obtained for the various values of C\n",
    "\n",
    "print(\"Accuracies obtained for the different values of C with 10-fold Cross-Validation: {}\".format( CV_accuracies ))\n",
    "\n",
    "# the attribute 'C_' contains the best value of C as identified by cross-validation;\n",
    "# let's print it\n",
    "\n",
    "print('Best C value identified: ',regL2.C_)"
   ]
  },
  {
   "cell_type": "code",
   "execution_count": 16,
   "metadata": {},
   "outputs": [
    {
     "name": "stdout",
     "output_type": "stream",
     "text": [
      "[[0.54545455 0.54545455 0.81818182 0.72727273 0.72727273 0.72727273\n",
      "  0.72727273 0.72727273 0.72727273 0.72727273]\n",
      " [0.54545455 0.54545455 0.72727273 0.81818182 0.63636364 0.54545455\n",
      "  0.72727273 0.72727273 0.72727273 0.72727273]\n",
      " [0.6        0.6        0.5        0.4        0.4        0.5\n",
      "  0.4        0.4        0.4        0.4       ]\n",
      " [0.6        0.6        0.8        0.8        0.7        0.7\n",
      "  0.7        0.7        0.7        0.7       ]\n",
      " [0.6        0.6        0.6        0.7        0.7        0.6\n",
      "  0.6        0.6        0.6        0.6       ]\n",
      " [0.6        0.6        0.8        0.8        0.7        0.6\n",
      "  0.6        0.6        0.6        0.6       ]\n",
      " [0.6        0.6        0.6        0.5        0.4        0.4\n",
      "  0.4        0.4        0.4        0.4       ]\n",
      " [0.6        0.6        0.6        0.6        0.4        0.4\n",
      "  0.4        0.4        0.4        0.4       ]\n",
      " [0.55555556 0.55555556 0.66666667 0.77777778 0.88888889 0.88888889\n",
      "  0.88888889 0.88888889 0.88888889 0.88888889]\n",
      " [0.55555556 0.55555556 0.55555556 0.66666667 0.55555556 0.55555556\n",
      "  0.55555556 0.55555556 0.55555556 0.55555556]]\n",
      "10-fold Cross-Validation accuracies obtained with the best value of parameter C: 0.8888888888888888\n"
     ]
    },
    {
     "data": {
      "text/plain": [
       "LogisticRegression(C=0.046415888336127774, class_weight=None, dual=False,\n",
       "                   fit_intercept=True, intercept_scaling=1, l1_ratio=None,\n",
       "                   max_iter=100, multi_class='warn', n_jobs=None, penalty='l2',\n",
       "                   random_state=None, solver='newton-cg', tol=0.0001, verbose=0,\n",
       "                   warm_start=False)"
      ]
     },
     "execution_count": 16,
     "metadata": {},
     "output_type": "execute_result"
    }
   ],
   "source": [
    "# let's store the best CV accuracy, and then print it\n",
    "print(regL2.scores_[1])\n",
    "regL2_best_CV_accuracy = np.max(regL2.scores_[1])\n",
    "print(\"10-fold Cross-Validation accuracies obtained with the best value of parameter C: {}\".format( regL2_best_CV_accuracy ))\n",
    "\n",
    "#define the model using the best C and an appropriate solver\n",
    "bestC = float(regL2.C_)\n",
    "regL2_full = linear_model.LogisticRegression(solver='newton-cg',C=bestC, penalty='l2')\n",
    "\n",
    "#fit the model using the best C on the entire training set\n",
    "\n",
    "regL2_full.fit(X_training,Y_training)"
   ]
  },
  {
   "cell_type": "markdown",
   "metadata": {},
   "source": [
    "### TO DO 5: Print and plot the coefficients from logistic regression with and without regularization."
   ]
  },
  {
   "cell_type": "code",
   "execution_count": 17,
   "metadata": {},
   "outputs": [
    {
     "name": "stdout",
     "output_type": "stream",
     "text": [
      "[[-8.93229763e+00  8.93229763e+00 -8.93229763e+00  8.93229763e+00\n",
      "   1.48942231e+01 -7.81649073e+00  7.81649073e+00  1.21685234e+01\n",
      "  -1.21685234e+01  2.25140227e+00 -2.25140227e+00  1.68434793e-01\n",
      "   1.88502882e+00 -1.78627410e+01 -1.06483823e+00  1.73881466e+01\n",
      "  -1.44972736e+01  2.90688963e+01  8.31530543e+00  4.97830305e-03\n",
      "  -3.83675320e+01 -3.86271108e+00  2.32624467e+01 -4.36314283e+00\n",
      "  -1.66023134e+00 -5.44208099e+00 -4.90661073e+00  6.17628371e-01\n",
      "  -6.85107424e+00  1.14378012e+01 -2.79756399e+00  3.66469389e+00\n",
      "   1.46798838e+01 -3.40180464e+01 -1.23475665e+01  2.63882259e+01\n",
      "  -2.26129622e+01 -1.43015489e-01  1.00071011e+01 -1.78365557e+01\n",
      "   2.42335203e+01 -1.96183154e+01 -5.19500736e-01 -3.73181940e+01\n",
      "   2.58876361e+01  9.56473234e+00 -1.42085080e+01  6.66509378e+00\n",
      "  -7.25337641e+00 -1.33415829e+01  2.80810378e+00  2.03840946e+01\n",
      "   8.47047895e-01 -2.56848154e+01 -7.61948831e+00  2.27731003e+01\n",
      "   1.23349090e+01 -7.88491424e+00  1.05890888e+01 -2.03072334e+01\n",
      "  -9.12203711e+00  2.19273396e+01  2.47817385e+01 -2.17010272e+01]] \n",
      "\n",
      "[[-0.13806779  0.13806779 -0.13806779  0.13806779  0.11314349 -0.07374041\n",
      "   0.07374041  0.06863421 -0.06863421 -0.04203989  0.04203989  0.10154253\n",
      "   0.08759778 -0.0933162   0.00463594 -0.01291718 -0.19088239  0.07418141\n",
      "  -0.05182375  0.13174216 -0.10506835  0.0346109   0.1847041  -0.09367144\n",
      "  -0.01371671 -0.03490415 -0.05846686 -0.01321842 -0.06849279  0.13053999\n",
      "  -0.03390925 -0.02005422  0.01892837 -0.00062816 -0.01523956  0.06521663\n",
      "  -0.1092468   0.04583426  0.1000313  -0.11817991  0.10873071 -0.11819497\n",
      "  -0.02146959 -0.20443637  0.11076583  0.12475249 -0.12595363  0.07907572\n",
      "  -0.08527288 -0.13399934  0.09668818  0.10995579 -0.06624188 -0.12823267\n",
      "  -0.12931206  0.19074644  0.13913654 -0.09725816  0.00160719  0.01215411\n",
      "  -0.15637831  0.17799481  0.09154503 -0.18507424]]\n"
     ]
    }
   ],
   "source": [
    "#print the coefficients from logistic regression\n",
    "print(reg_full.coef_,'\\n')\n",
    "\n",
    "#print the coefficients from L2 regularized logistic regression\n",
    "print(regL2_full.coef_)"
   ]
  },
  {
   "cell_type": "code",
   "execution_count": 18,
   "metadata": {},
   "outputs": [
    {
     "name": "stdout",
     "output_type": "stream",
     "text": [
      "Intercept: [-0.35316021]\n"
     ]
    },
    {
     "data": {
      "image/png": "[encoded data removed]",
      "text/plain": [
       "<Figure size 432x288 with 1 Axes>"
      ]
     },
     "metadata": {
      "needs_background": "light"
     },
     "output_type": "display_data"
    }
   ],
   "source": [
    "# note that the intercept is not in coef_, it is in intercept_\n",
    "print(\"Intercept: {}\".format( regL2_full.intercept_ ))\n",
    "\n",
    "# Plot the coefficients\n",
    "regL2_full_coef = regL2_full.coef_.reshape(regL2_full.coef_.shape[1],)\n",
    "ind = np.arange(1,len(reg_coef)+1)  # the x locations for the groups\n",
    "width = 0.35       # the width of the bars\n",
    "fig, ax = plt.subplots()\n",
    "\n",
    "rects1 = ax.bar(ind, reg_coef, width, color='r')\n",
    "rects2 = ax.bar(ind + width, regL2_full_coef, width, color='g')\n",
    "ax.legend((rects1[0], rects2[0]), ('Log Regr', 'Log Regr + L2 Regul'))\n",
    "plt.xlabel('Coefficient Idx')\n",
    "plt.ylabel('Coefficient Value')\n",
    "plt.title('Logistic Regression Coefficients: Standard and Regularized Version')\n",
    "plt.show()"
   ]
  },
  {
   "cell_type": "code",
   "execution_count": 19,
   "metadata": {},
   "outputs": [
    {
     "data": {
      "image/png": "[encoded data removed]",
      "text/plain": [
       "<Figure size 432x288 with 1 Axes>"
      ]
     },
     "metadata": {
      "needs_background": "light"
     },
     "output_type": "display_data"
    }
   ],
   "source": [
    "# Plot the coefficients\n",
    "regL2_full_coef = regL2_full.coef_.reshape(regL2_full.coef_.shape[1],)\n",
    "ind = np.arange(1,len(reg_coef)+1)  # the x locations for the groups\n",
    "width = 0.35       # the width of the bars\n",
    "fig, ax = plt.subplots()\n",
    "\n",
    "rects2 = ax.bar(ind + width, regL2_full_coef, width, color='g',label='Log Regr + L2 Regul')\n",
    "plt.xlabel('Coefficient Idx')\n",
    "plt.ylabel('Coefficient Value')\n",
    "plt.title('Logistic Regression Coefficients: Regularized Version only')\n",
    "plt.legend(loc='best')\n",
    "plt.show()"
   ]
  },
  {
   "cell_type": "markdown",
   "metadata": {},
   "source": [
    "### TO DO 6: how do the coefficients from logistic regression with L2 regularization compare to the ones from logistic regression without regularization ? Why? (max 5 lines)\n",
    "\n",
    "The coefficients found with L2 regularization are one order of magnitude smaller than the ones found without. The regularization makes the algorithm more stable: in fact, bigger coefficients lead to bigger differences in output, while smaller coefficient do the opposite, and this leads to more stability."
   ]
  },
  {
   "cell_type": "markdown",
   "metadata": {},
   "source": [
    "### TO DO 7: obtain classification accuracy on training and test data for the L2 regularized model"
   ]
  },
  {
   "cell_type": "code",
   "execution_count": 20,
   "metadata": {},
   "outputs": [
    {
     "name": "stdout",
     "output_type": "stream",
     "text": [
      "Training Accuracy: 0.84\n",
      "Test Accuracy: 0.6466302367941712\n"
     ]
    }
   ],
   "source": [
    "#now get training and test error and print training and test accuracy\n",
    "\n",
    "# predictions on training data \n",
    "Y_training_prediction_LR_L2 = regL2_full.predict(X_training)\n",
    "\n",
    "# predictions on test data \n",
    "Y_test_prediction_LR_L2 = regL2_full.predict(X_test)\n",
    "\n",
    "# compute accuracy as suggested above using metrics.accuracy_score from scikit-learn on training data\n",
    "print(\"Training Accuracy:\", metrics.accuracy_score(Y_training, Y_training_prediction_LR_L2))\n",
    "\n",
    "# compute accuracy as suggested above using metrics.accuracy_score from scikit-learn on test data\n",
    "print(\"Test Accuracy:\",metrics.accuracy_score(Y_test, Y_test_prediction_LR_L2))"
   ]
  },
  {
   "cell_type": "markdown",
   "metadata": {},
   "source": [
    "### TO DO 8: How does training and test accuracies change when using regularization? Comment (max 5 lines)\n",
    "\n",
    "We compare these results with the results at the end of TO-DO3. As we can see, the training error has decreased a bit, while the test error has decreased. This isn't strange: the regularization algorithm helps preventing overfitting, and this means that the found function is better in predicting new data, it is \"less connected\" to the training data and so it predicts those worse. "
   ]
  },
  {
   "cell_type": "markdown",
   "metadata": {
    "collapsed": true
   },
   "source": [
    "### TO DO 9: Use larger datasets for training set\n",
    "\n",
    "Perform the same estimation procedures using different more points on the training data, that is fix $m_{training} = 400$. You can simply copy and paste all the code you have written previously into the cell below."
   ]
  },
  {
   "cell_type": "code",
   "execution_count": 21,
   "metadata": {},
   "outputs": [],
   "source": [
    "# new splitting\n",
    "m_training = 400 \n",
    "m_test = m-m_training \n",
    "\n",
    "X_training, X_test, Y_training, Y_test = train_test_split(X, Y, test_size =float(m_test)/float(m), random_state = IDnumber)\n",
    "\n",
    "m_training = X_training.shape[0]\n",
    "m_test = X_test.shape[0]"
   ]
  },
  {
   "cell_type": "code",
   "execution_count": 22,
   "metadata": {},
   "outputs": [
    {
     "name": "stdout",
     "output_type": "stream",
     "text": [
      "Training accuracy, no regularization (m=400):  0.7425\n",
      "Test accuracy, no regularization, (m=400):  0.6666666666666666\n"
     ]
    }
   ],
   "source": [
    "#without regularization\n",
    "reg_full9 = linear_model.LogisticRegression(C=1e5, solver='newton-cg')\n",
    "reg_full9.fit(X_training,Y_training)\n",
    "\n",
    "Y_training_prediction_reg_full9 = reg_full9.predict(X_training)\n",
    "Y_test_prediction_reg_full9 = reg_full9.predict(X_test)\n",
    "\n",
    "print('Training accuracy, no regularization (m=400): ',metrics.accuracy_score(Y_training, Y_training_prediction_reg_full9))\n",
    "print('Test accuracy, no regularization, (m=400): ',metrics.accuracy_score(Y_test, Y_test_prediction_reg_full9))"
   ]
  },
  {
   "cell_type": "code",
   "execution_count": 23,
   "metadata": {
    "scrolled": false
   },
   "outputs": [
    {
     "name": "stdout",
     "output_type": "stream",
     "text": [
      "Values of parameter C tried in 10-fold Cross-Validation: [1.00000000e-04 7.74263683e-04 5.99484250e-03 4.64158883e-02\n",
      " 3.59381366e-01 2.78255940e+00 2.15443469e+01 1.66810054e+02\n",
      " 1.29154967e+03 1.00000000e+04]\n",
      "\n",
      " Accuracies obtained for the different values of C with 10-fold Cross-Validation: [0.58020202 0.58020202 0.66676768 0.6789899  0.61080808 0.59171717\n",
      " 0.59989899 0.59989899 0.59989899 0.59989899]\n",
      "\n",
      " Training Accuracy, (m=400): 0.735\n",
      "Test Accuracy, (m=400): 0.6827309236947792\n"
     ]
    }
   ],
   "source": [
    "# with regularization\n",
    "\n",
    "regL29 = linear_model.LogisticRegressionCV(solver='newton-cg',cv=10,penalty='l2')\n",
    "regL29.fit(X_training, Y_training)\n",
    "print(\"Values of parameter C tried in 10-fold Cross-Validation: {}\".format( regL29.Cs_ ))\n",
    "CV_accuraciesL29 =  np.divide(np.sum(regL29.scores_[1],axis=0),10)\n",
    "bestC29 = float(regL29.C_)\n",
    "print(\"\\n Accuracies obtained for the different values of C with 10-fold Cross-Validation: {}\".format( CV_accuracies ))\n",
    "\n",
    "regL29_full = linear_model.LogisticRegression(solver='newton-cg',C=bestC29, penalty='l2')\n",
    "regL29_full.fit(X_training,Y_training) \n",
    "\n",
    "Y_training_prediction_LR_L29 = regL29_full.predict(X_training)\n",
    "Y_test_prediction_LR_L29 = regL29_full.predict(X_test)\n",
    "\n",
    "print(\"\\n Training Accuracy, (m=400):\", metrics.accuracy_score(Y_training, Y_training_prediction_LR_L29))\n",
    "print(\"Test Accuracy, (m=400):\",metrics.accuracy_score(Y_test, Y_test_prediction_LR_L29))"
   ]
  },
  {
   "cell_type": "code",
   "execution_count": 24,
   "metadata": {},
   "outputs": [
    {
     "data": {
      "image/png": "[encoded data removed]",
      "text/plain": [
       "<Figure size 432x288 with 1 Axes>"
      ]
     },
     "metadata": {
      "needs_background": "light"
     },
     "output_type": "display_data"
    }
   ],
   "source": [
    "#plotting coefficients\n",
    "regL29_full_coef = regL29_full.coef_.reshape(regL29_full.coef_.shape[1],)\n",
    "reg_full9_coef = reg_full9.coef_.reshape(reg_full9.coef_.shape[1],)\n",
    "\n",
    "ind = np.arange(1,len(reg_full9_coef)+1)  # the x locations for the groups\n",
    "width = 0.35       # the width of the bars\n",
    "fig, ax = plt.subplots()\n",
    "\n",
    "rects1 = ax.bar(ind, reg_full9_coef, width, color='r')\n",
    "rects2 = ax.bar(ind + width, regL29_full_coef, width, color='g')\n",
    "ax.legend((rects1[0], rects2[0]), ('Log Regr', 'Log Regr + L2 Regul'))\n",
    "plt.xlabel('Coefficient Idx')\n",
    "plt.ylabel('Coefficient Value')\n",
    "plt.title('Logistic Regression Coefficients: Standard and Regularized Version, m=400')\n",
    "plt.show()"
   ]
  },
  {
   "cell_type": "markdown",
   "metadata": {
    "collapsed": true
   },
   "source": [
    "### TO DO 10: Discuss all the questions above for the larger set (max 7 lines). Compare the impact of regularization in this case with the results you obtained for the smaller set.\n",
    "\n",
    "### Answer to the question\n"
   ]
  },
  {
   "cell_type": "code",
   "execution_count": 25,
   "metadata": {},
   "outputs": [
    {
     "name": "stdout",
     "output_type": "stream",
     "text": [
      "Number of coefficients close to zero in the two cases: \n",
      "\n",
      "64\n",
      "44\n"
     ]
    }
   ],
   "source": [
    "print('Number of coefficients close to zero in the two cases: \\n')\n",
    "print(sum(abs(regL29_full.coef_[0])<0.5))\n",
    "print(sum(abs(reg_full9.coef_[0])<0.5))"
   ]
  },
  {
   "cell_type": "markdown",
   "metadata": {},
   "source": [
    "In the regularization with more data, all the coefficients are close to 0, while more than half in the case without regularization, that is much more than before. Also here, the coefficients found with regularization are smaller than the ones without: in the former casa the algorithm is more stable. However, concerning the score, with more data the impact of regularization is less important, in fact the test score with regularization is not much bigger than the one without. The training errors are also similar. This is different from the case with less data, there the regularization had a more important role (TO-DO 8)."
   ]
  },
  {
   "cell_type": "code",
   "execution_count": null,
   "metadata": {},
   "outputs": [],
   "source": []
  }
 ],
 "metadata": {
  "anaconda-cloud": {},
  "kernelspec": {
   "display_name": "Python 3",
   "language": "python",
   "name": "python3"
  },
  "language_info": {
   "codemirror_mode": {
    "name": "ipython",
    "version": 3
   },
   "file_extension": ".py",
   "mimetype": "text/x-python",
   "name": "python",
   "nbconvert_exporter": "python",
   "pygments_lexer": "ipython3",
   "version": "3.8.5"
  }
 },
 "nbformat": 4,
 "nbformat_minor": 1
}
