{
 "cells": [
  {
   "cell_type": "markdown",
   "metadata": {},
   "source": [
    "# Clothes Classification with Neural Networks\n",
    "\n",
    "In this notebook we are going to explore the Neural Networks for image classification. We are going to use the same dataset of the SVM notebook: Fashion MNIST (https://pravarmahajan.github.io/fashion/), a dataset of small images of clothes and accessories.\n",
    "\n",
    "The dataset labels are the following:\n",
    "\n",
    "| Label | Description |\n",
    "| --- | --- |\n",
    "| 0 | T-shirt/top |\n",
    "| 1 | Trouser |\n",
    "| 2 | Pullover |\n",
    "| 3 | Dress |\n",
    "| 4 | Coat |\n",
    "| 5 | Sandal |\n",
    "| 6 | Shirt |\n",
    "| 7 | Sneaker |\n",
    "| 8 | Bag |\n",
    "| 9 | Ankle boot |"
   ]
  },
  {
   "cell_type": "code",
   "execution_count": 1,
   "metadata": {},
   "outputs": [
    {
     "name": "stdout",
     "output_type": "stream",
     "text": [
      "scikit-learn version:  0.21.3\n"
     ]
    }
   ],
   "source": [
    "#load the required packages and check Scikit-learn version\n",
    "\n",
    "%matplotlib inline  \n",
    "\n",
    "import numpy as np\n",
    "import scipy as sp\n",
    "import matplotlib.pyplot as plt\n",
    "\n",
    "import sklearn\n",
    "print ('scikit-learn version: ', sklearn.__version__)\n",
    "from sklearn.neural_network import MLPClassifier\n",
    "from sklearn.model_selection import GridSearchCV\n",
    "from sklearn.svm import SVC"
   ]
  },
  {
   "cell_type": "code",
   "execution_count": 2,
   "metadata": {},
   "outputs": [],
   "source": [
    "# helper function to load Fashion MNIST dataset from disk\n",
    "def load_mnist(path, kind='train'):\n",
    "    import os\n",
    "    import gzip\n",
    "    import numpy as np\n",
    "    labels_path = os.path.join(path, '%s-labels-idx1-ubyte.gz' % kind)\n",
    "    images_path = os.path.join(path, '%s-images-idx3-ubyte.gz' % kind)\n",
    "    with gzip.open(labels_path, 'rb') as lbpath:\n",
    "        labels = np.frombuffer(lbpath.read(), dtype=np.uint8,offset=8)\n",
    "    with gzip.open(images_path, 'rb') as imgpath:\n",
    "        images = np.frombuffer(imgpath.read(), dtype=np.uint8,offset=16).reshape(len(labels), 784)\n",
    "    return images, labels"
   ]
  },
  {
   "cell_type": "markdown",
   "metadata": {},
   "source": [
    "# TODO \n",
    "Place a seed for the random generator (you can use your \"numero di matricola\"). Try to change the seed to see the impact of the randomization."
   ]
  },
  {
   "cell_type": "code",
   "execution_count": 3,
   "metadata": {},
   "outputs": [],
   "source": [
    "ID = 1212063\n",
    "np.random.seed(ID)"
   ]
  },
  {
   "cell_type": "code",
   "execution_count": 4,
   "metadata": {},
   "outputs": [
    {
     "name": "stdout",
     "output_type": "stream",
     "text": [
      "Number of samples in the MNIST dataset: 60000\n"
     ]
    }
   ],
   "source": [
    "#load the MNIST dataset and let's normalize the features so that each value is in [0,1]\n",
    "X, y = load_mnist(\"data\")\n",
    "print(\"Number of samples in the MNIST dataset:\", X.shape[0])\n",
    "# rescale the data\n",
    "X = X / 255.0"
   ]
  },
  {
   "cell_type": "markdown",
   "metadata": {},
   "source": [
    "Now split into training and test. We start with a small training set of 600 samples to reduce computation time. Make sure that each label is present at least 10 times\n",
    "in training frequencies."
   ]
  },
  {
   "cell_type": "code",
   "execution_count": 5,
   "metadata": {},
   "outputs": [
    {
     "name": "stdout",
     "output_type": "stream",
     "text": [
      "Labels in training dataset:  [0 1 2 3 4 5 6 7 8 9]\n",
      "Frequencies in training dataset:  [67 60 41 57 60 61 67 62 67 58]\n"
     ]
    }
   ],
   "source": [
    "#random permute the data and split into training and test taking the first 600\n",
    "#data samples as training and the rests as test\n",
    "permutation = np.random.permutation(X.shape[0])\n",
    "\n",
    "X = X[permutation]\n",
    "y = y[permutation]\n",
    "\n",
    "m_training = 600\n",
    "\n",
    "X_train, X_test = X[:m_training], X[m_training:]\n",
    "y_train, y_test = y[:m_training], y[m_training:]\n",
    "\n",
    "labels, freqs = np.unique(y_train, return_counts=True)\n",
    "print(\"Labels in training dataset: \", labels)\n",
    "print(\"Frequencies in training dataset: \", freqs)\n"
   ]
  },
  {
   "cell_type": "code",
   "execution_count": 6,
   "metadata": {},
   "outputs": [],
   "source": [
    "#function for plotting a image and printing the corresponding label\n",
    "def plot_input(X_matrix, labels, index):\n",
    "    print(\"INPUT:\")\n",
    "    plt.imshow(\n",
    "        X_matrix[index].reshape(28,28),\n",
    "        cmap          = plt.cm.gray_r,\n",
    "        interpolation = \"nearest\"\n",
    "    )\n",
    "    plt.show()\n",
    "    print(\"LABEL: %i\"%labels[index])\n",
    "    return"
   ]
  },
  {
   "cell_type": "code",
   "execution_count": 7,
   "metadata": {},
   "outputs": [
    {
     "name": "stdout",
     "output_type": "stream",
     "text": [
      "INPUT:\n"
     ]
    },
    {
     "data": {
      "image/png": "[encoded data removed]",
      "text/plain": [
       "<Figure size 432x288 with 1 Axes>"
      ]
     },
     "metadata": {
      "needs_background": "light"
     },
     "output_type": "display_data"
    },
    {
     "name": "stdout",
     "output_type": "stream",
     "text": [
      "LABEL: 7\n",
      "INPUT:\n"
     ]
    },
    {
     "data": {
      "image/png": "[encoded data removed]",
      "text/plain": [
       "<Figure size 432x288 with 1 Axes>"
      ]
     },
     "metadata": {
      "needs_background": "light"
     },
     "output_type": "display_data"
    },
    {
     "name": "stdout",
     "output_type": "stream",
     "text": [
      "LABEL: 8\n",
      "INPUT:\n"
     ]
    },
    {
     "data": {
      "image/png": "[encoded data removed]",
      "text/plain": [
       "<Figure size 432x288 with 1 Axes>"
      ]
     },
     "metadata": {
      "needs_background": "light"
     },
     "output_type": "display_data"
    },
    {
     "name": "stdout",
     "output_type": "stream",
     "text": [
      "LABEL: 7\n"
     ]
    }
   ],
   "source": [
    "#let's try the plotting function\n",
    "plot_input(X_train,y_train,10)\n",
    "plot_input(X_test,y_test,100)\n",
    "plot_input(X_test,y_test,10000)"
   ]
  },
  {
   "cell_type": "markdown",
   "metadata": {},
   "source": [
    "## TO DO 1\n",
    "\n",
    "Now use a feed-forward Neural Network for prediction. Use the multi-layer perceptron classifier, with the following parameters: max_iter=300, alpha=1e-4, solver='sgd', tol=1e-4, learning_rate_init=.1, random_state=ID (this last parameter ensures the run is the same even if you run it more than once). The alpha parameter is the regularization term.\n",
    "\n",
    "Then, using the default activation function, pick four or five architectures to consider, with different numbers of hidden layers and different sizes. It is not necessary to create huge neural networks, you can limit to 3 layers and, for each layer, its maximum size can be of 100. Evaluate the architectures you chose using GridSearchCV with cv=5.\n",
    "\n",
    "You can reduce the number of iterations if the running time is too long on your computer.\n"
   ]
  },
  {
   "cell_type": "code",
   "execution_count": 8,
   "metadata": {},
   "outputs": [
    {
     "name": "stderr",
     "output_type": "stream",
     "text": [
      "/home/davide/anaconda3/lib/python3.6/site-packages/sklearn/model_selection/_search.py:814: DeprecationWarning: The default of the `iid` parameter will change from True to False in version 0.22 and will be removed in 0.24. This will change numeric results when test-set sizes are unequal.\n",
      "  DeprecationWarning)\n"
     ]
    },
    {
     "name": "stdout",
     "output_type": "stream",
     "text": [
      "RESULTS FOR NN\n",
      "\n",
      "Best parameters set found: {'hidden_layer_sizes': (40,)}\n",
      "Score with best parameters: 0.8033333333333333\n",
      "\n",
      "All scores on the grid:\n"
     ]
    },
    {
     "data": {
      "text/html": [
       "<div>\n",
       "<style scoped>\n",
       "    .dataframe tbody tr th:only-of-type {\n",
       "        vertical-align: middle;\n",
       "    }\n",
       "\n",
       "    .dataframe tbody tr th {\n",
       "        vertical-align: top;\n",
       "    }\n",
       "\n",
       "    .dataframe thead th {\n",
       "        text-align: right;\n",
       "    }\n",
       "</style>\n",
       "<table border=\"1\" class=\"dataframe\">\n",
       "  <thead>\n",
       "    <tr style=\"text-align: right;\">\n",
       "      <th></th>\n",
       "      <th>mean_fit_time</th>\n",
       "      <th>std_fit_time</th>\n",
       "      <th>mean_score_time</th>\n",
       "      <th>std_score_time</th>\n",
       "      <th>param_hidden_layer_sizes</th>\n",
       "      <th>params</th>\n",
       "      <th>split0_test_score</th>\n",
       "      <th>split1_test_score</th>\n",
       "      <th>split2_test_score</th>\n",
       "      <th>split3_test_score</th>\n",
       "      <th>...</th>\n",
       "      <th>mean_test_score</th>\n",
       "      <th>std_test_score</th>\n",
       "      <th>rank_test_score</th>\n",
       "      <th>split0_train_score</th>\n",
       "      <th>split1_train_score</th>\n",
       "      <th>split2_train_score</th>\n",
       "      <th>split3_train_score</th>\n",
       "      <th>split4_train_score</th>\n",
       "      <th>mean_train_score</th>\n",
       "      <th>std_train_score</th>\n",
       "    </tr>\n",
       "  </thead>\n",
       "  <tbody>\n",
       "    <tr>\n",
       "      <th>0</th>\n",
       "      <td>1.984903</td>\n",
       "      <td>0.462341</td>\n",
       "      <td>0.001709</td>\n",
       "      <td>0.000103</td>\n",
       "      <td>(10,)</td>\n",
       "      <td>{'hidden_layer_sizes': (10,)}</td>\n",
       "      <td>0.776</td>\n",
       "      <td>0.780488</td>\n",
       "      <td>0.779661</td>\n",
       "      <td>0.769231</td>\n",
       "      <td>...</td>\n",
       "      <td>0.770000</td>\n",
       "      <td>0.013584</td>\n",
       "      <td>5</td>\n",
       "      <td>1.000000</td>\n",
       "      <td>1.000000</td>\n",
       "      <td>1.000000</td>\n",
       "      <td>1.000000</td>\n",
       "      <td>1.000000</td>\n",
       "      <td>1.000000</td>\n",
       "      <td>0.000000</td>\n",
       "    </tr>\n",
       "    <tr>\n",
       "      <th>1</th>\n",
       "      <td>2.127489</td>\n",
       "      <td>0.249530</td>\n",
       "      <td>0.002083</td>\n",
       "      <td>0.000240</td>\n",
       "      <td>(20,)</td>\n",
       "      <td>{'hidden_layer_sizes': (20,)}</td>\n",
       "      <td>0.784</td>\n",
       "      <td>0.788618</td>\n",
       "      <td>0.796610</td>\n",
       "      <td>0.803419</td>\n",
       "      <td>...</td>\n",
       "      <td>0.786667</td>\n",
       "      <td>0.014425</td>\n",
       "      <td>3</td>\n",
       "      <td>1.000000</td>\n",
       "      <td>1.000000</td>\n",
       "      <td>1.000000</td>\n",
       "      <td>1.000000</td>\n",
       "      <td>1.000000</td>\n",
       "      <td>1.000000</td>\n",
       "      <td>0.000000</td>\n",
       "    </tr>\n",
       "    <tr>\n",
       "      <th>2</th>\n",
       "      <td>2.375594</td>\n",
       "      <td>0.282868</td>\n",
       "      <td>0.002249</td>\n",
       "      <td>0.000087</td>\n",
       "      <td>(40,)</td>\n",
       "      <td>{'hidden_layer_sizes': (40,)}</td>\n",
       "      <td>0.824</td>\n",
       "      <td>0.813008</td>\n",
       "      <td>0.805085</td>\n",
       "      <td>0.811966</td>\n",
       "      <td>...</td>\n",
       "      <td>0.803333</td>\n",
       "      <td>0.021863</td>\n",
       "      <td>1</td>\n",
       "      <td>1.000000</td>\n",
       "      <td>1.000000</td>\n",
       "      <td>1.000000</td>\n",
       "      <td>1.000000</td>\n",
       "      <td>1.000000</td>\n",
       "      <td>1.000000</td>\n",
       "      <td>0.000000</td>\n",
       "    </tr>\n",
       "    <tr>\n",
       "      <th>3</th>\n",
       "      <td>1.442230</td>\n",
       "      <td>0.520607</td>\n",
       "      <td>0.002502</td>\n",
       "      <td>0.000243</td>\n",
       "      <td>(40, 20)</td>\n",
       "      <td>{'hidden_layer_sizes': (40, 20)}</td>\n",
       "      <td>0.776</td>\n",
       "      <td>0.788618</td>\n",
       "      <td>0.822034</td>\n",
       "      <td>0.692308</td>\n",
       "      <td>...</td>\n",
       "      <td>0.761667</td>\n",
       "      <td>0.045691</td>\n",
       "      <td>6</td>\n",
       "      <td>0.924211</td>\n",
       "      <td>1.000000</td>\n",
       "      <td>1.000000</td>\n",
       "      <td>0.774327</td>\n",
       "      <td>0.968944</td>\n",
       "      <td>0.933496</td>\n",
       "      <td>0.084289</td>\n",
       "    </tr>\n",
       "    <tr>\n",
       "      <th>4</th>\n",
       "      <td>1.487526</td>\n",
       "      <td>0.423179</td>\n",
       "      <td>0.002538</td>\n",
       "      <td>0.000311</td>\n",
       "      <td>(40, 30, 20)</td>\n",
       "      <td>{'hidden_layer_sizes': (40, 30, 20)}</td>\n",
       "      <td>0.720</td>\n",
       "      <td>0.626016</td>\n",
       "      <td>0.110169</td>\n",
       "      <td>0.427350</td>\n",
       "      <td>...</td>\n",
       "      <td>0.511667</td>\n",
       "      <td>0.221346</td>\n",
       "      <td>8</td>\n",
       "      <td>0.875789</td>\n",
       "      <td>0.744235</td>\n",
       "      <td>0.112033</td>\n",
       "      <td>0.461698</td>\n",
       "      <td>0.668737</td>\n",
       "      <td>0.572498</td>\n",
       "      <td>0.266475</td>\n",
       "    </tr>\n",
       "    <tr>\n",
       "      <th>5</th>\n",
       "      <td>3.991324</td>\n",
       "      <td>0.371162</td>\n",
       "      <td>0.003296</td>\n",
       "      <td>0.000041</td>\n",
       "      <td>(100,)</td>\n",
       "      <td>{'hidden_layer_sizes': (100,)}</td>\n",
       "      <td>0.816</td>\n",
       "      <td>0.804878</td>\n",
       "      <td>0.788136</td>\n",
       "      <td>0.777778</td>\n",
       "      <td>...</td>\n",
       "      <td>0.791667</td>\n",
       "      <td>0.017244</td>\n",
       "      <td>2</td>\n",
       "      <td>1.000000</td>\n",
       "      <td>1.000000</td>\n",
       "      <td>1.000000</td>\n",
       "      <td>1.000000</td>\n",
       "      <td>1.000000</td>\n",
       "      <td>1.000000</td>\n",
       "      <td>0.000000</td>\n",
       "    </tr>\n",
       "    <tr>\n",
       "      <th>6</th>\n",
       "      <td>1.532932</td>\n",
       "      <td>0.397451</td>\n",
       "      <td>0.002549</td>\n",
       "      <td>0.000072</td>\n",
       "      <td>(50, 50)</td>\n",
       "      <td>{'hidden_layer_sizes': (50, 50)}</td>\n",
       "      <td>0.832</td>\n",
       "      <td>0.796748</td>\n",
       "      <td>0.686441</td>\n",
       "      <td>0.786325</td>\n",
       "      <td>...</td>\n",
       "      <td>0.773333</td>\n",
       "      <td>0.048769</td>\n",
       "      <td>4</td>\n",
       "      <td>1.000000</td>\n",
       "      <td>1.000000</td>\n",
       "      <td>0.800830</td>\n",
       "      <td>1.000000</td>\n",
       "      <td>0.995859</td>\n",
       "      <td>0.959338</td>\n",
       "      <td>0.079270</td>\n",
       "    </tr>\n",
       "    <tr>\n",
       "      <th>7</th>\n",
       "      <td>1.314194</td>\n",
       "      <td>0.210820</td>\n",
       "      <td>0.002684</td>\n",
       "      <td>0.000050</td>\n",
       "      <td>(50, 50, 50)</td>\n",
       "      <td>{'hidden_layer_sizes': (50, 50, 50)}</td>\n",
       "      <td>0.776</td>\n",
       "      <td>0.447154</td>\n",
       "      <td>0.728814</td>\n",
       "      <td>0.683761</td>\n",
       "      <td>...</td>\n",
       "      <td>0.683333</td>\n",
       "      <td>0.125297</td>\n",
       "      <td>7</td>\n",
       "      <td>0.943158</td>\n",
       "      <td>0.452830</td>\n",
       "      <td>0.800830</td>\n",
       "      <td>0.763975</td>\n",
       "      <td>0.973085</td>\n",
       "      <td>0.786776</td>\n",
       "      <td>0.185150</td>\n",
       "    </tr>\n",
       "    <tr>\n",
       "      <th>8</th>\n",
       "      <td>0.584310</td>\n",
       "      <td>0.300589</td>\n",
       "      <td>0.001822</td>\n",
       "      <td>0.000044</td>\n",
       "      <td>(10, 10, 10)</td>\n",
       "      <td>{'hidden_layer_sizes': (10, 10, 10)}</td>\n",
       "      <td>0.408</td>\n",
       "      <td>0.479675</td>\n",
       "      <td>0.355932</td>\n",
       "      <td>0.470085</td>\n",
       "      <td>...</td>\n",
       "      <td>0.423333</td>\n",
       "      <td>0.045941</td>\n",
       "      <td>9</td>\n",
       "      <td>0.444211</td>\n",
       "      <td>0.534591</td>\n",
       "      <td>0.396266</td>\n",
       "      <td>0.463768</td>\n",
       "      <td>0.414079</td>\n",
       "      <td>0.450583</td>\n",
       "      <td>0.048072</td>\n",
       "    </tr>\n",
       "  </tbody>\n",
       "</table>\n",
       "<p>9 rows × 21 columns</p>\n",
       "</div>"
      ],
      "text/plain": [
       "   mean_fit_time  std_fit_time  mean_score_time  std_score_time  \\\n",
       "0       1.984903      0.462341         0.001709        0.000103   \n",
       "1       2.127489      0.249530         0.002083        0.000240   \n",
       "2       2.375594      0.282868         0.002249        0.000087   \n",
       "3       1.442230      0.520607         0.002502        0.000243   \n",
       "4       1.487526      0.423179         0.002538        0.000311   \n",
       "5       3.991324      0.371162         0.003296        0.000041   \n",
       "6       1.532932      0.397451         0.002549        0.000072   \n",
       "7       1.314194      0.210820         0.002684        0.000050   \n",
       "8       0.584310      0.300589         0.001822        0.000044   \n",
       "\n",
       "  param_hidden_layer_sizes                                params  \\\n",
       "0                    (10,)         {'hidden_layer_sizes': (10,)}   \n",
       "1                    (20,)         {'hidden_layer_sizes': (20,)}   \n",
       "2                    (40,)         {'hidden_layer_sizes': (40,)}   \n",
       "3                 (40, 20)      {'hidden_layer_sizes': (40, 20)}   \n",
       "4             (40, 30, 20)  {'hidden_layer_sizes': (40, 30, 20)}   \n",
       "5                   (100,)        {'hidden_layer_sizes': (100,)}   \n",
       "6                 (50, 50)      {'hidden_layer_sizes': (50, 50)}   \n",
       "7             (50, 50, 50)  {'hidden_layer_sizes': (50, 50, 50)}   \n",
       "8             (10, 10, 10)  {'hidden_layer_sizes': (10, 10, 10)}   \n",
       "\n",
       "   split0_test_score  split1_test_score  split2_test_score  split3_test_score  \\\n",
       "0              0.776           0.780488           0.779661           0.769231   \n",
       "1              0.784           0.788618           0.796610           0.803419   \n",
       "2              0.824           0.813008           0.805085           0.811966   \n",
       "3              0.776           0.788618           0.822034           0.692308   \n",
       "4              0.720           0.626016           0.110169           0.427350   \n",
       "5              0.816           0.804878           0.788136           0.777778   \n",
       "6              0.832           0.796748           0.686441           0.786325   \n",
       "7              0.776           0.447154           0.728814           0.683761   \n",
       "8              0.408           0.479675           0.355932           0.470085   \n",
       "\n",
       "   ...  mean_test_score  std_test_score  rank_test_score  split0_train_score  \\\n",
       "0  ...         0.770000        0.013584                5            1.000000   \n",
       "1  ...         0.786667        0.014425                3            1.000000   \n",
       "2  ...         0.803333        0.021863                1            1.000000   \n",
       "3  ...         0.761667        0.045691                6            0.924211   \n",
       "4  ...         0.511667        0.221346                8            0.875789   \n",
       "5  ...         0.791667        0.017244                2            1.000000   \n",
       "6  ...         0.773333        0.048769                4            1.000000   \n",
       "7  ...         0.683333        0.125297                7            0.943158   \n",
       "8  ...         0.423333        0.045941                9            0.444211   \n",
       "\n",
       "   split1_train_score  split2_train_score  split3_train_score  \\\n",
       "0            1.000000            1.000000            1.000000   \n",
       "1            1.000000            1.000000            1.000000   \n",
       "2            1.000000            1.000000            1.000000   \n",
       "3            1.000000            1.000000            0.774327   \n",
       "4            0.744235            0.112033            0.461698   \n",
       "5            1.000000            1.000000            1.000000   \n",
       "6            1.000000            0.800830            1.000000   \n",
       "7            0.452830            0.800830            0.763975   \n",
       "8            0.534591            0.396266            0.463768   \n",
       "\n",
       "   split4_train_score  mean_train_score  std_train_score  \n",
       "0            1.000000          1.000000         0.000000  \n",
       "1            1.000000          1.000000         0.000000  \n",
       "2            1.000000          1.000000         0.000000  \n",
       "3            0.968944          0.933496         0.084289  \n",
       "4            0.668737          0.572498         0.266475  \n",
       "5            1.000000          1.000000         0.000000  \n",
       "6            0.995859          0.959338         0.079270  \n",
       "7            0.973085          0.786776         0.185150  \n",
       "8            0.414079          0.450583         0.048072  \n",
       "\n",
       "[9 rows x 21 columns]"
      ]
     },
     "execution_count": 8,
     "metadata": {},
     "output_type": "execute_result"
    }
   ],
   "source": [
    "# these are sample values but feel free to change them as you like, try to experiment with different sizes!!\n",
    "parameters = {'hidden_layer_sizes': [(10,), (20,), (40,), (40,20,), (40,30,20), (100,), (50,50), (50,50,50),(10,10,10) ]}\n",
    "\n",
    "mlp = MLPClassifier(max_iter=300, alpha=1e-4, solver='sgd',\n",
    "                    tol=1e-4, random_state=ID,\n",
    "                    learning_rate_init=.1)\n",
    "\n",
    "mlp_cv = GridSearchCV(mlp, parameters, cv=5, return_train_score=True)\n",
    "mlp_cv.fit(X_train, y_train)\n",
    "\n",
    "print ('RESULTS FOR NN\\n')\n",
    "\n",
    "print(\"Best parameters set found:\",mlp_cv.best_params_)\n",
    "\n",
    "print(\"Score with best parameters:\",mlp_cv.best_score_)\n",
    "\n",
    "print(\"\\nAll scores on the grid:\")\n",
    "import pandas as pd\n",
    "mlp_scores=pd.DataFrame(mlp_cv.cv_results_)           \n",
    "mlp_scores\n"
   ]
  },
  {
   "cell_type": "markdown",
   "metadata": {},
   "source": [
    "### TO DO 2\n",
    "\n",
    "Now try also different batch sizes, while keeping the best NN architecture you have found above. Remember that the batch size was previously set to the default value, i.e., min(200, n_samples). \n",
    "Recall that a batch size of 1 corresponds to baseline SGD, while using all the 480 training samples (there are 600 samples but in cross validation with 5 folders we use 1/5 of them for validation at each round) corresponds to standard GD and using a different mini-batch size lies in the middle between the two extreme cases."
   ]
  },
  {
   "cell_type": "code",
   "execution_count": 9,
   "metadata": {},
   "outputs": [],
   "source": [
    "# these are sample values corresponding to baseline SGD, a reasonable mini-batch size and standard GD\n",
    "# again feel free to change them as you like, try to experiment with different batch sizes!!\n",
    "parameters = {'batch_size': [32,300,480]}\n",
    "\n",
    "# need to specify that you would like to use the standard k-fold split otherwise sklearn create splits of different sizes\n",
    "kf = sklearn.model_selection.KFold(n_splits=5)\n",
    "batch_mlp = MLPClassifier(hidden_layer_sizes=(40,),max_iter=300, alpha=1e-4, solver='sgd',\n",
    "                    tol=1e-4, random_state=ID,\n",
    "                    learning_rate_init=.1)"
   ]
  },
  {
   "cell_type": "code",
   "execution_count": 10,
   "metadata": {},
   "outputs": [
    {
     "name": "stdout",
     "output_type": "stream",
     "text": [
      "RESULTS FOR NN\n",
      "\n",
      "Best parameters set found: {'batch_size': 480}\n",
      "Score with best parameters: 0.8066666666666666\n",
      "\n",
      "All scores on the grid:\n"
     ]
    },
    {
     "data": {
      "text/html": [
       "<div>\n",
       "<style scoped>\n",
       "    .dataframe tbody tr th:only-of-type {\n",
       "        vertical-align: middle;\n",
       "    }\n",
       "\n",
       "    .dataframe tbody tr th {\n",
       "        vertical-align: top;\n",
       "    }\n",
       "\n",
       "    .dataframe thead th {\n",
       "        text-align: right;\n",
       "    }\n",
       "</style>\n",
       "<table border=\"1\" class=\"dataframe\">\n",
       "  <thead>\n",
       "    <tr style=\"text-align: right;\">\n",
       "      <th></th>\n",
       "      <th>mean_fit_time</th>\n",
       "      <th>std_fit_time</th>\n",
       "      <th>mean_score_time</th>\n",
       "      <th>std_score_time</th>\n",
       "      <th>param_batch_size</th>\n",
       "      <th>params</th>\n",
       "      <th>split0_test_score</th>\n",
       "      <th>split1_test_score</th>\n",
       "      <th>split2_test_score</th>\n",
       "      <th>split3_test_score</th>\n",
       "      <th>...</th>\n",
       "      <th>mean_test_score</th>\n",
       "      <th>std_test_score</th>\n",
       "      <th>rank_test_score</th>\n",
       "      <th>split0_train_score</th>\n",
       "      <th>split1_train_score</th>\n",
       "      <th>split2_train_score</th>\n",
       "      <th>split3_train_score</th>\n",
       "      <th>split4_train_score</th>\n",
       "      <th>mean_train_score</th>\n",
       "      <th>std_train_score</th>\n",
       "    </tr>\n",
       "  </thead>\n",
       "  <tbody>\n",
       "    <tr>\n",
       "      <th>0</th>\n",
       "      <td>1.946070</td>\n",
       "      <td>0.328279</td>\n",
       "      <td>0.002259</td>\n",
       "      <td>0.000231</td>\n",
       "      <td>32</td>\n",
       "      <td>{'batch_size': 32}</td>\n",
       "      <td>0.750000</td>\n",
       "      <td>0.775000</td>\n",
       "      <td>0.808333</td>\n",
       "      <td>0.750</td>\n",
       "      <td>...</td>\n",
       "      <td>0.761667</td>\n",
       "      <td>0.028186</td>\n",
       "      <td>3</td>\n",
       "      <td>0.916667</td>\n",
       "      <td>0.989583</td>\n",
       "      <td>0.9375</td>\n",
       "      <td>0.98125</td>\n",
       "      <td>0.99375</td>\n",
       "      <td>0.96375</td>\n",
       "      <td>0.030918</td>\n",
       "    </tr>\n",
       "    <tr>\n",
       "      <th>1</th>\n",
       "      <td>2.420963</td>\n",
       "      <td>0.226938</td>\n",
       "      <td>0.002170</td>\n",
       "      <td>0.000062</td>\n",
       "      <td>300</td>\n",
       "      <td>{'batch_size': 300}</td>\n",
       "      <td>0.825000</td>\n",
       "      <td>0.791667</td>\n",
       "      <td>0.816667</td>\n",
       "      <td>0.825</td>\n",
       "      <td>...</td>\n",
       "      <td>0.798333</td>\n",
       "      <td>0.034721</td>\n",
       "      <td>2</td>\n",
       "      <td>1.000000</td>\n",
       "      <td>1.000000</td>\n",
       "      <td>1.0000</td>\n",
       "      <td>1.00000</td>\n",
       "      <td>1.00000</td>\n",
       "      <td>1.00000</td>\n",
       "      <td>0.000000</td>\n",
       "    </tr>\n",
       "    <tr>\n",
       "      <th>2</th>\n",
       "      <td>2.396904</td>\n",
       "      <td>0.643621</td>\n",
       "      <td>0.002182</td>\n",
       "      <td>0.000062</td>\n",
       "      <td>480</td>\n",
       "      <td>{'batch_size': 480}</td>\n",
       "      <td>0.841667</td>\n",
       "      <td>0.783333</td>\n",
       "      <td>0.825000</td>\n",
       "      <td>0.825</td>\n",
       "      <td>...</td>\n",
       "      <td>0.806667</td>\n",
       "      <td>0.030912</td>\n",
       "      <td>1</td>\n",
       "      <td>1.000000</td>\n",
       "      <td>1.000000</td>\n",
       "      <td>1.0000</td>\n",
       "      <td>1.00000</td>\n",
       "      <td>0.98125</td>\n",
       "      <td>0.99625</td>\n",
       "      <td>0.007500</td>\n",
       "    </tr>\n",
       "  </tbody>\n",
       "</table>\n",
       "<p>3 rows × 21 columns</p>\n",
       "</div>"
      ],
      "text/plain": [
       "   mean_fit_time  std_fit_time  mean_score_time  std_score_time  \\\n",
       "0       1.946070      0.328279         0.002259        0.000231   \n",
       "1       2.420963      0.226938         0.002170        0.000062   \n",
       "2       2.396904      0.643621         0.002182        0.000062   \n",
       "\n",
       "  param_batch_size               params  split0_test_score  split1_test_score  \\\n",
       "0               32   {'batch_size': 32}           0.750000           0.775000   \n",
       "1              300  {'batch_size': 300}           0.825000           0.791667   \n",
       "2              480  {'batch_size': 480}           0.841667           0.783333   \n",
       "\n",
       "   split2_test_score  split3_test_score  ...  mean_test_score  std_test_score  \\\n",
       "0           0.808333              0.750  ...         0.761667        0.028186   \n",
       "1           0.816667              0.825  ...         0.798333        0.034721   \n",
       "2           0.825000              0.825  ...         0.806667        0.030912   \n",
       "\n",
       "   rank_test_score  split0_train_score  split1_train_score  \\\n",
       "0                3            0.916667            0.989583   \n",
       "1                2            1.000000            1.000000   \n",
       "2                1            1.000000            1.000000   \n",
       "\n",
       "   split2_train_score  split3_train_score  split4_train_score  \\\n",
       "0              0.9375             0.98125             0.99375   \n",
       "1              1.0000             1.00000             1.00000   \n",
       "2              1.0000             1.00000             0.98125   \n",
       "\n",
       "   mean_train_score  std_train_score  \n",
       "0           0.96375         0.030918  \n",
       "1           1.00000         0.000000  \n",
       "2           0.99625         0.007500  \n",
       "\n",
       "[3 rows x 21 columns]"
      ]
     },
     "execution_count": 10,
     "metadata": {},
     "output_type": "execute_result"
    }
   ],
   "source": [
    "# recall to use cv=kf in GridSearchCV parameters to use the k-fold subdivision seen in the lectures\n",
    "\n",
    "batch_mlp_cv = GridSearchCV(batch_mlp, parameters, cv=kf, return_train_score=True)\n",
    "batch_mlp_cv.fit(X_train, y_train)\n",
    "\n",
    "print ('RESULTS FOR NN\\n')\n",
    "\n",
    "print(\"Best parameters set found:\",batch_mlp_cv.best_params_)\n",
    "\n",
    "print(\"Score with best parameters:\",batch_mlp_cv.best_score_)\n",
    "\n",
    "print(\"\\nAll scores on the grid:\")\n",
    "batch_mlp_scores=pd.DataFrame(batch_mlp_cv.cv_results_)           \n",
    "batch_mlp_scores"
   ]
  },
  {
   "cell_type": "markdown",
   "metadata": {},
   "source": [
    "### QUESTION 1\n",
    "\n",
    "What do you observe for different architectures and batch sizes? How do the number of layers and their sizes affect the performances? What do you observe for different batch sizes, in particular what happens to the training convergence for different batch sizes (notice that the algorithm could not converge for some batch sizes)?"
   ]
  },
  {
   "cell_type": "markdown",
   "metadata": {},
   "source": [
    "The best architecture that was found is the one made of only one layer of size 40, and other architectures with only one layer lead (e.g. size 20, size 100) lead to a similar score of the best (~0.8). Increasing the number of layers to two or taking one layer with few neurons (10) lead to worse performances, and even worse performances are obtained increasing again the number of layers to 3. \n",
    "Instead, for what concern the batch size, the best score was found with the maximum size, 480. This is reasonable, since this size corresponds to the standard GD, that is more expenisve but more precise than the SGD. In addition, it can be noticed that the algorithm could not converge for low values of the batch size, therefore in this case the baseline SGD can not be performed."
   ]
  },
  {
   "cell_type": "markdown",
   "metadata": {},
   "source": [
    "### TO DO 3\n",
    "\n",
    "Now try also to use different learning rates, while keeping the best NN architecture and batch size you have found above. Plot the learning curves (i.e., the variation of the loss over the steps, you can get it from the loss_curve_ object of sklearn) for the different values of the learning rate . "
   ]
  },
  {
   "cell_type": "code",
   "execution_count": 11,
   "metadata": {},
   "outputs": [],
   "source": [
    "import matplotlib.pyplot as plt\n",
    "from sklearn.metrics import accuracy_score\n",
    "lr_list = [10**exp for exp in range(-3,0)]\n",
    "scores = {}\n",
    "test_acc = {}"
   ]
  },
  {
   "cell_type": "code",
   "execution_count": 12,
   "metadata": {},
   "outputs": [
    {
     "name": "stderr",
     "output_type": "stream",
     "text": [
      "/home/davide/anaconda3/lib/python3.6/site-packages/sklearn/neural_network/multilayer_perceptron.py:566: ConvergenceWarning: Stochastic Optimizer: Maximum iterations (300) reached and the optimization hasn't converged yet.\n",
      "  % self.max_iter, ConvergenceWarning)\n",
      "/home/davide/anaconda3/lib/python3.6/site-packages/sklearn/neural_network/multilayer_perceptron.py:566: ConvergenceWarning: Stochastic Optimizer: Maximum iterations (300) reached and the optimization hasn't converged yet.\n",
      "  % self.max_iter, ConvergenceWarning)\n"
     ]
    }
   ],
   "source": [
    "#fixed one layer with 40 neurons, fixed batch size to 480\n",
    "\n",
    "for ii in lr_list:\n",
    "    lr_mlp = MLPClassifier(hidden_layer_sizes=(40,),max_iter=300, alpha=1e-4, solver='sgd',\n",
    "                    tol=1e-4, random_state=ID,\n",
    "                    learning_rate_init= ii,batch_size=480)\n",
    "    lr_mlp.fit(X_train, y_train)\n",
    "    y_predicted = lr_mlp.predict(X_test)\n",
    "    test_acc[str(ii)] = accuracy_score(y_test, y_predicted)\n",
    "    loss_values = lr_mlp.loss_curve_\n",
    "    scores[str(ii)] = loss_values"
   ]
  },
  {
   "cell_type": "code",
   "execution_count": 13,
   "metadata": {},
   "outputs": [
    {
     "data": {
      "image/png": "[encoded data removed]",
      "text/plain": [
       "<Figure size 1080x360 with 3 Axes>"
      ]
     },
     "metadata": {
      "needs_background": "light"
     },
     "output_type": "display_data"
    }
   ],
   "source": [
    "fig, (ax1, ax2, ax3) = plt.subplots(1, 3,figsize=(15,5))\n",
    "ax1.plot(scores['0.001'])\n",
    "ax1.set_xlabel('step')\n",
    "ax1.set_ylabel('loss')\n",
    "ax1.set_title('0.001')\n",
    "\n",
    "ax2.plot(scores['0.01'])\n",
    "ax2.set_xlabel('step')\n",
    "ax2.set_ylabel('loss')\n",
    "ax2.set_title('0.01')\n",
    "\n",
    "ax3.plot(scores['0.1'])\n",
    "ax3.set_xlabel('step')\n",
    "ax3.set_ylabel('loss')\n",
    "ax3.set_title('0.1')\n",
    "\n",
    "plt.show()"
   ]
  },
  {
   "cell_type": "code",
   "execution_count": 14,
   "metadata": {},
   "outputs": [
    {
     "data": {
      "text/plain": [
       "{'0.001': 0.7298484848484849,\n",
       " '0.01': 0.7967003367003367,\n",
       " '0.1': 0.7988720538720538}"
      ]
     },
     "execution_count": 14,
     "metadata": {},
     "output_type": "execute_result"
    }
   ],
   "source": [
    "test_acc"
   ]
  },
  {
   "cell_type": "code",
   "execution_count": 15,
   "metadata": {},
   "outputs": [
    {
     "name": "stdout",
     "output_type": "stream",
     "text": [
      "RESULTS FOR NN\n",
      "\n",
      "Best parameters set found:\n",
      "learning rate= 0.1\n",
      "Score with best parameters: 0.7988720538720538\n"
     ]
    }
   ],
   "source": [
    "print ('RESULTS FOR NN\\n')\n",
    "\n",
    "print(\"Best parameters set found:\")\n",
    "print('learning rate= 0.1')\n",
    "\n",
    "print(\"Score with best parameters:\", test_acc['0.1'])"
   ]
  },
  {
   "cell_type": "markdown",
   "metadata": {},
   "source": [
    "### QUESTION 2\n",
    "\n",
    "Comment about the learning curves (i.e. the variation of the loss over the steps). How does the curve changes for different learning rates in terms of stability and speed of convergence ?"
   ]
  },
  {
   "cell_type": "markdown",
   "metadata": {},
   "source": [
    "The learning rate has an important impact on stability and convergence. The first value, 0.001, didn't allow the algorithm to converge within 300 steps; with 0.01 also the algorithm missed the 0 for few, while it converged quickly for the value 0.1. With this last value the stability isn't perfect (the graphic shows some fluctuations), while for the other values the curves seems smoother; concerning the score, the 0.1 and the 0.01 values lead to similar results."
   ]
  },
  {
   "cell_type": "markdown",
   "metadata": {},
   "source": [
    "### TO DO 4\n",
    "\n",
    "Now get training and test error for a NN with best parameters (architecture, batch size and learning rate)from above. Plot the learning curve also for this case."
   ]
  },
  {
   "cell_type": "code",
   "execution_count": 16,
   "metadata": {
    "scrolled": true
   },
   "outputs": [
    {
     "name": "stdout",
     "output_type": "stream",
     "text": [
      "\n",
      "RESULTS FOR BEST NN\n",
      "\n",
      "Best NN training error: 0.000000\n",
      "Best NN test error: 0.201128\n"
     ]
    }
   ],
   "source": [
    "best_mlp = MLPClassifier(hidden_layer_sizes=(40,),max_iter=300, alpha=1e-4, solver='sgd',\n",
    "                    tol=1e-4, random_state=ID,\n",
    "                    learning_rate_init= 0.1,batch_size=480)\n",
    "\n",
    "best_mlp.fit(X_train, y_train)\n",
    "y_train_predicted = best_mlp.predict(X_train)\n",
    "y_test_predicted = best_mlp.predict(X_test)\n",
    "\n",
    "training_error = 1.0 - accuracy_score(y_train,y_train_predicted)\n",
    "test_error = 1.0 - accuracy_score(y_test,y_test_predicted)\n",
    "\n",
    "print ('\\nRESULTS FOR BEST NN\\n')\n",
    "\n",
    "print (\"Best NN training error: %f\" % training_error)\n",
    "print (\"Best NN test error: %f\" % test_error)"
   ]
  },
  {
   "cell_type": "code",
   "execution_count": 17,
   "metadata": {},
   "outputs": [
    {
     "data": {
      "image/png": "[encoded data removed]",
      "text/plain": [
       "<Figure size 432x288 with 1 Axes>"
      ]
     },
     "metadata": {
      "needs_background": "light"
     },
     "output_type": "display_data"
    }
   ],
   "source": [
    "best_loss_values = best_mlp.loss_curve_\n",
    "plt.plot(best_loss_values)\n",
    "plt.xlabel('step')\n",
    "plt.ylabel('loss')\n",
    "plt.title('Learning curve for best parameters')\n",
    "plt.show()"
   ]
  },
  {
   "cell_type": "markdown",
   "metadata": {},
   "source": [
    "## More data \n",
    "Now let's do the same but using 5000 (or less if it takes too long on your machine) data points for training. Use the same NN architecture as before, but you can try more if you like and have a powerful computer !!"
   ]
  },
  {
   "cell_type": "code",
   "execution_count": 18,
   "metadata": {},
   "outputs": [
    {
     "name": "stdout",
     "output_type": "stream",
     "text": [
      "Labels in training dataset:  [0 1 2 3 4 5 6 7 8 9]\n",
      "Frequencies in training dataset:  [506 532 479 476 482 513 506 477 509 520]\n"
     ]
    }
   ],
   "source": [
    "X = X[permutation]\n",
    "y = y[permutation]\n",
    "\n",
    "m_training = 5000\n",
    "\n",
    "X_train, X_test = X[:m_training], X[m_training:]\n",
    "y_train, y_test = y[:m_training], y[m_training:]\n",
    "\n",
    "labels, freqs = np.unique(y_train, return_counts=True)\n",
    "print(\"Labels in training dataset: \", labels)\n",
    "print(\"Frequencies in training dataset: \", freqs)"
   ]
  },
  {
   "cell_type": "markdown",
   "metadata": {},
   "source": [
    "## TO DO 5\n",
    "\n",
    "Now train the NNs with the added data points using the optimum parameters found above. Eventually, feel free to try different architectures if you like. We suggest that you use 'verbose=True' so have an idea of how long it takes to run 1 iteration (eventually reduce also the number of iterations to 50)."
   ]
  },
  {
   "cell_type": "code",
   "execution_count": 19,
   "metadata": {},
   "outputs": [
    {
     "name": "stdout",
     "output_type": "stream",
     "text": [
      "\n",
      "RESULTS FOR NN\n",
      "\n",
      "NN training error: 0.000000\n",
      "NN test error: 0.163800\n"
     ]
    }
   ],
   "source": [
    "best_mlp_large = MLPClassifier(hidden_layer_sizes=(40,),max_iter=300, alpha=1e-4, solver='sgd',\n",
    "                    tol=1e-4, random_state=ID,\n",
    "                    learning_rate_init= 0.1,batch_size=480, verbose=False)\n",
    "\n",
    "best_mlp_large.fit(X_train,y_train)     #the predictor is the same, but trained with more points\n",
    "y_train_predicted_large = best_mlp_large.predict(X_train)\n",
    "y_test_predicted_large = best_mlp_large.predict(X_test)\n",
    "\n",
    "training_error = 1.0 - accuracy_score(y_train,y_train_predicted_large)\n",
    "test_error = 1.0 - accuracy_score(y_test,y_test_predicted_large)\n",
    "\n",
    "\n",
    "\n",
    "print ('\\nRESULTS FOR NN\\n')\n",
    "\n",
    "print (\"NN training error: %f\" % training_error)\n",
    "print (\"NN test error: %f\" % test_error)\n"
   ]
  },
  {
   "cell_type": "markdown",
   "metadata": {},
   "source": [
    "## QUESTION 3\n",
    "Compare the train and test errors you got with a large number of samples with the best one you obtained with only 600 data points. Comment about the results you obtained."
   ]
  },
  {
   "cell_type": "markdown",
   "metadata": {},
   "source": [
    "As expected, the test error in the second case is smaller than the test error found in the first case. With the same architecture, the training made with more data lead to a better learning and prediction."
   ]
  },
  {
   "cell_type": "markdown",
   "metadata": {},
   "source": [
    "### TO DO 7\n",
    "\n",
    "Plot an example that was missclassified by NN with m=600 training data points and it is now instead correctly classified by NN with m=5000 training data points."
   ]
  },
  {
   "cell_type": "code",
   "execution_count": 23,
   "metadata": {},
   "outputs": [
    {
     "name": "stdout",
     "output_type": "stream",
     "text": [
      "INPUT:\n"
     ]
    },
    {
     "data": {
      "image/png": "[encoded data removed]",
      "text/plain": [
       "<Figure size 432x288 with 1 Axes>"
      ]
     },
     "metadata": {
      "needs_background": "light"
     },
     "output_type": "display_data"
    },
    {
     "name": "stdout",
     "output_type": "stream",
     "text": [
      "LABEL: 4\n",
      "m_training=600 label:  2\n",
      "m_training=5000 label:  4\n"
     ]
    }
   ],
   "source": [
    "NN_prediction = best_mlp.predict(X_test)\n",
    "large_NN_prediction = y_test_predicted_large\n",
    "\n",
    "for ii in range(len(NN_prediction)):\n",
    "    if NN_prediction[ii] != y_test[ii] and large_NN_prediction[ii] == y_test[ii]:\n",
    "        plot_input(X_test,y_test,ii)\n",
    "        print('m_training=600 label: ',NN_prediction[ii])\n",
    "        print('m_training=5000 label: ',large_NN_prediction[ii])\n",
    "        break"
   ]
  },
  {
   "cell_type": "markdown",
   "metadata": {},
   "source": [
    "### TO DO 8\n",
    "\n",
    "Let's plot the weigths of the multi-layer perceptron classifier, for the best NN we get with 600 data points and with 5000 data points. The code is already provided, just fix variable names (e.g., replace mlp ,  mlp_large with your estimators) in order to have it working with your implementation\n",
    "\n"
   ]
  },
  {
   "cell_type": "code",
   "execution_count": 21,
   "metadata": {},
   "outputs": [
    {
     "name": "stdout",
     "output_type": "stream",
     "text": [
      "Weights with 600 data points:\n"
     ]
    },
    {
     "data": {
      "image/png": "[encoded data removed]",
      "text/plain": [
       "<Figure size 432x288 with 16 Axes>"
      ]
     },
     "metadata": {},
     "output_type": "display_data"
    },
    {
     "name": "stdout",
     "output_type": "stream",
     "text": [
      "Weights with 5000 data points:\n"
     ]
    },
    {
     "data": {
      "image/png": "[encoded data removed]",
      "text/plain": [
       "<Figure size 432x288 with 16 Axes>"
      ]
     },
     "metadata": {},
     "output_type": "display_data"
    }
   ],
   "source": [
    "# The code is already provided, fix variable names in order to have it working with your implementation\n",
    "\n",
    "print(\"Weights with 600 data points:\")\n",
    "\n",
    "fig, axes = plt.subplots(4, 4)\n",
    "vmin, vmax = best_mlp.coefs_[0].min(), best_mlp.coefs_[0].max()\n",
    "for coef, ax in zip(best_mlp.coefs_[0].T, axes.ravel()):\n",
    "    ax.matshow(coef.reshape(28, 28), cmap=plt.cm.gray, vmin=.5 * vmin,\n",
    "               vmax=.5 * vmax)\n",
    "    ax.set_xticks(())\n",
    "    ax.set_yticks(())\n",
    "\n",
    "plt.show()\n",
    "\n",
    "print(\"Weights with 5000 data points:\")\n",
    "\n",
    "fig, axes = plt.subplots(4, 4)\n",
    "vmin, vmax = best_mlp_large.coefs_[0].min(), best_mlp_large.coefs_[0].max()\n",
    "for coef, ax in zip(best_mlp_large.coefs_[0].T, axes.ravel()):\n",
    "    ax.matshow(coef.reshape(28, 28), cmap=plt.cm.gray, vmin=.5 * vmin,\n",
    "               vmax=.5 * vmax)\n",
    "    ax.set_xticks(())\n",
    "    ax.set_yticks(())\n",
    "plt.show()"
   ]
  },
  {
   "cell_type": "markdown",
   "metadata": {},
   "source": [
    "## QUESTION 4\n",
    "\n",
    "Describe what do you observe by looking at the weights"
   ]
  },
  {
   "cell_type": "markdown",
   "metadata": {},
   "source": [
    "The images representing the weights of the case with more points are more blurry than the ones of the case with 600 points."
   ]
  },
  {
   "cell_type": "markdown",
   "metadata": {},
   "source": [
    "### TO DO 9\n",
    "\n",
    "Report the best SVM model and its parameters, you found in the last notebook (or check out the solution on the moodle webpage of the course). Fit it on a few data points and compute its training and test scores."
   ]
  },
  {
   "cell_type": "code",
   "execution_count": 24,
   "metadata": {},
   "outputs": [
    {
     "name": "stdout",
     "output_type": "stream",
     "text": [
      "RESULTS FOR SVM\n",
      "Training error SVM: 0.06320000000000003\n",
      "Test error SVM: 0.14300000000000002\n",
      "\n",
      " Training score:  0.9368\n",
      "Test score:  0.857\n"
     ]
    }
   ],
   "source": [
    "m_training = 5000\n",
    "\n",
    "X_train, X_test = X[:m_training], X[m_training:2*m_training]\n",
    "y_train, y_test = y[:m_training], y[m_training:2*m_training]\n",
    "\n",
    "SVM = SVC(kernel='rbf',C=5,gamma=0.005)\n",
    "SVM.fit(X_train,y_train)\n",
    "\n",
    "print ('RESULTS FOR SVM')\n",
    "\n",
    "SVM_training_error = 1. - SVM.score(X_train,y_train)\n",
    "print(\"Training error SVM:\",SVM_training_error)\n",
    "\n",
    "SVM_test_error = 1. - SVM.score(X_test,y_test)\n",
    "print(\"Test error SVM:\",SVM_test_error)\n",
    "\n",
    "print('\\n Training score: ',SVM.score(X_train,y_train))\n",
    "print('Test score: ',SVM.score(X_test,y_test))\n"
   ]
  },
  {
   "cell_type": "markdown",
   "metadata": {
    "collapsed": true
   },
   "source": [
    "## QUESTION 5\n",
    "Compare the results of SVM and of NN. Which one would you prefer? "
   ]
  },
  {
   "cell_type": "markdown",
   "metadata": {},
   "source": [
    "Relying on the test error, the SVM lead to a smaller test error (\\~0.143) than the NN (\\~0.1638), and therefore should be preferable. In addiction, we can notice that the SVM has a bigger training error, and this fact leads to think that for this exercise the SVM is less prone than the NN of overfitting the data."
   ]
  },
  {
   "cell_type": "code",
   "execution_count": null,
   "metadata": {},
   "outputs": [],
   "source": []
  }
 ],
 "metadata": {
  "kernelspec": {
   "display_name": "Python 3",
   "language": "python",
   "name": "python3"
  },
  "language_info": {
   "codemirror_mode": {
    "name": "ipython",
    "version": 3
   },
   "file_extension": ".py",
   "mimetype": "text/x-python",
   "name": "python",
   "nbconvert_exporter": "python",
   "pygments_lexer": "ipython3",
   "version": "3.6.8"
  }
 },
 "nbformat": 4,
 "nbformat_minor": 2
}
